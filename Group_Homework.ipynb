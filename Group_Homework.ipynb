{
 "cells": [
  {
   "cell_type": "markdown",
   "id": "induced-standard",
   "metadata": {},
   "source": [
    "# Group Exercise"
   ]
  },
  {
   "cell_type": "code",
   "execution_count": 2,
   "id": "sufficient-tooth",
   "metadata": {},
   "outputs": [],
   "source": [
    "import numpy as np\n",
    "import matplotlib.pyplot as plt"
   ]
  },
  {
   "cell_type": "markdown",
   "id": "painted-writing",
   "metadata": {},
   "source": [
    "For this group exercise, work with the second initial condition from Monday (involving the $\\cos$ function, $10\\pi$, etc.). Put your code here:"
   ]
  },
  {
   "cell_type": "code",
   "execution_count": 3,
   "id": "south-verification",
   "metadata": {},
   "outputs": [],
   "source": [
    "def init_2u(t0,npts, xl, xr):\n",
    "    x = np.linspace(xl,xr,npts)\n",
    "    out = (0.5*(1+np.cos(10*np.pi*(x-t0-0.5))))**4\n",
    "    for i,j in enumerate(x):\n",
    "        if x[i] < 0.4:\n",
    "            out[i] = 0\n",
    "        if x[i] > 0.6:\n",
    "            out[i] = 0\n",
    "        else:\n",
    "            None\n",
    "    return x, out"
   ]
  },
  {
   "cell_type": "markdown",
   "id": "lovely-canvas",
   "metadata": {},
   "source": [
    "The equation we are solving is: $$\\frac{\\partial u}{\\partial t} + c \\frac{\\partial u}{\\partial x} = 0$$\n",
    "\n",
    "So far, we have explored the forward-in-time, upstream scheme applied to this equation, which results in:\n",
    "$$\\frac{u_j^{n+1}-u_j^n}{\\Delta t} + c \\frac{u_j^n-u_{j-1}^n}{\\Delta x} = 0$$\n",
    "\n",
    "Here, $j$ is the index for an arbitrary grid point in the $x$ direction, and $n$ is an arbitrary index in time.\n",
    "\n",
    "Because this is an explicit scheme, we can explicitly solve this equation for the value of $u$ at each grid point at the next timestep:\n",
    "$$u_j^{n+1} = u_j^n - \\left(\\frac{c\\Delta t}{\\Delta x}\\right)\\left(u_j^n-u_{j-1}^n\\right)$$\n",
    "\n",
    "For future reference, note that we can write the general form of the forward-in-time scheme as:\n",
    "$$\\frac{u^{n+1}-u^n}{\\Delta t}=f(u^n)$$\n",
    "\n",
    "Here, $f(u^n)$ represents how the term $-c\\frac{\\partial u}{\\partial x}$ is discretized. This form makes clear that the particulars of the time scheme are independent of the particulars of the spatial discretization scheme. (You can mix and match whichever time scheme you like with whatever spatial scheme you like.)\n",
    "\n",
    "#### Python function implementing forward-in-time, upstream scheme:"
   ]
  },
  {
   "cell_type": "code",
   "execution_count": 4,
   "id": "centered-amino",
   "metadata": {},
   "outputs": [],
   "source": [
    "def advect_FTUS(u0, cfl, ntimes=100, npts=101):\n",
    "    u_new = np.zeros(npts)\n",
    "    u_t0 = u0.copy()\n",
    "    \n",
    "    for k in range(ntimes):\n",
    "        u_new[1:npts] = u_t0[1:npts] - cfl*(u_t0[1:npts] - u_t0[0:npts-1])\n",
    "        u_new[0] = u_new[-1]\n",
    "        u_t0=u_new.copy()\n",
    "    return u_new"
   ]
  },
  {
   "cell_type": "markdown",
   "id": "consistent-carrier",
   "metadata": {},
   "source": [
    "## Error analysis of the forward-in-time, upstream scheme"
   ]
  },
  {
   "cell_type": "markdown",
   "id": "sapphire-research",
   "metadata": {},
   "source": [
    "There are many ways we can quantify how accurate a numerical scheme is. In this exercise, we will use two methods: the maximum absolute error, and the mean absolute error. The code below implements these error measures."
   ]
  },
  {
   "cell_type": "code",
   "execution_count": 5,
   "id": "deluxe-oakland",
   "metadata": {},
   "outputs": [],
   "source": [
    "def max_err(solution, exact_solution):\n",
    "    error = np.abs(solution - exact_solution)\n",
    "    return np.max(error)"
   ]
  },
  {
   "cell_type": "code",
   "execution_count": 6,
   "id": "alternate-citizenship",
   "metadata": {},
   "outputs": [],
   "source": [
    "def mean_err(solution, exact_solution):\n",
    "    error = np.abs(solution - exact_solution)\n",
    "    return np.mean(error)"
   ]
  },
  {
   "cell_type": "markdown",
   "id": "falling-heating",
   "metadata": {},
   "source": [
    "Here is a particular grid and timestep setup, which you should use repeatedly later in the assignment:"
   ]
  },
  {
   "cell_type": "code",
   "execution_count": 7,
   "id": "cutting-shore",
   "metadata": {},
   "outputs": [
    {
     "name": "stdout",
     "output_type": "stream",
     "text": [
      "c, dt, dx, CFL =  1 0.01 0.011111111111111112 0.9\n",
      "ntimes =  100\n"
     ]
    }
   ],
   "source": [
    "c = 1\n",
    "x_left = 0.\n",
    "x_right = 1.\n",
    "num_points = 91\n",
    "dx = (x_right-x_left)/(num_points-1)\n",
    "dt = .01\n",
    "cfl = c*dt/dx\n",
    "print('c, dt, dx, CFL = ', c, dt, dx, cfl)\n",
    "ntimes = int((x_right-x_left)/(c*dt))\n",
    "print('ntimes = ', ntimes)"
   ]
  },
  {
   "cell_type": "markdown",
   "id": "strange-parade",
   "metadata": {},
   "source": [
    "And the solution after the wave travels all the way around to its starting position..."
   ]
  },
  {
   "cell_type": "code",
   "execution_count": 8,
   "id": "fantastic-option",
   "metadata": {},
   "outputs": [
    {
     "data": {
      "text/plain": [
       "[<matplotlib.lines.Line2D at 0x7fdc79b93f70>,\n",
       " <matplotlib.lines.Line2D at 0x7fdc79b93f10>]"
      ]
     },
     "execution_count": 8,
     "metadata": {},
     "output_type": "execute_result"
    },
    {
     "data": {
      "image/png": "[encoded data removed]",
      "text/plain": [
       "<Figure size 432x288 with 1 Axes>"
      ]
     },
     "metadata": {
      "needs_background": "light"
     },
     "output_type": "display_data"
    }
   ],
   "source": [
    "x, ui0 = init_2u(0,num_points, 0, 1)\n",
    "out = advect_FTUS(ui0, cfl, ntimes, npts=num_points)\n",
    "\n",
    "plt.plot(x, ui0, x, out)"
   ]
  },
  {
   "cell_type": "markdown",
   "id": "intensive-precipitation",
   "metadata": {},
   "source": [
    "The error in this case:"
   ]
  },
  {
   "cell_type": "code",
   "execution_count": 9,
   "id": "official-period",
   "metadata": {},
   "outputs": [
    {
     "name": "stdout",
     "output_type": "stream",
     "text": [
      "Max: 0.4499556522038308   Mean: 0.03152093220808693\n"
     ]
    }
   ],
   "source": [
    "err1 = max_err(ui0, out)\n",
    "err2 = mean_err(ui0, out)\n",
    "print(f'Max: {err1}   Mean: {err2}')"
   ]
  },
  {
   "cell_type": "markdown",
   "id": "united-adapter",
   "metadata": {},
   "source": [
    "However let's explore how the error varies as dx and dt vary. For all parts of this assignment, use the settings given below. The number of points in the grid will vary from 11 to 501 as defined in `points_list`, and the timestep will vary from .001 to .05 (inclusive) by .001.\n",
    "\n",
    "To start with, here is how the CFL's number varies with dx and dt. The plotted values are capped at 1 to emphasize the variations when the CFL number indicates stability."
   ]
  },
  {
   "cell_type": "code",
   "execution_count": 10,
   "id": "recent-cholesterol",
   "metadata": {},
   "outputs": [
    {
     "data": {
      "image/png": "[encoded data removed]",
      "text/plain": [
       "<Figure size 432x288 with 2 Axes>"
      ]
     },
     "metadata": {
      "needs_background": "light"
     },
     "output_type": "display_data"
    }
   ],
   "source": [
    "points_list = list(range(11,51,2)) + list(range(51,101,4)) + list(range(101, 402, 10))\n",
    "dx_list = [(x_right-x_left)/(num_points-1) for num_points in points_list]\n",
    "dt_array = np.arange(.001, .05001, .001)\n",
    "cfl_array = np.zeros((len(dx_list), len(dt_array)))\n",
    "\n",
    "for i, dx in enumerate(dx_list):\n",
    "    for n, dt in enumerate(dt_array):\n",
    "        cfl = c*dt/dx\n",
    "        cfl_array[i,n] = min(cfl,1)\n",
    "\n",
    "plt.pcolormesh(dt_array, dx_list, cfl_array)\n",
    "plt.colorbar()\n",
    "plt.xlabel('dt')\n",
    "plt.ylabel('dx')\n",
    "plt.title('CFL Number (Capped at 1)')\n",
    "plt.show()"
   ]
  },
  {
   "cell_type": "markdown",
   "id": "dental-german",
   "metadata": {},
   "source": [
    "Your task is to create similar plots but showing how the maximum error varies with dx and dt, and how the mean absolute error varies with dx and dt. For plotting purposes, cap the max error at 1 and mean error at 0.25 to reveal the finer details when the scheme is stable. (Since the exact solution ranges between 0 and 1, any errors larger than that imply the numerical solution has \"blown up\".)"
   ]
  },
  {
   "cell_type": "code",
   "execution_count": 13,
   "id": "helpful-intelligence",
   "metadata": {},
   "outputs": [
    {
     "data": {
      "image/png": "[encoded data removed]",
      "text/plain": [
       "<Figure size 432x288 with 2 Axes>"
      ]
     },
     "metadata": {
      "needs_background": "light"
     },
     "output_type": "display_data"
    }
   ],
   "source": [
    "err1_array = np.zeros_like(cfl_array)\n",
    "err2_array = np.zeros_like(cfl_array)\n",
    "\n",
    "for i, dx in enumerate(dx_list):\n",
    "    num_points = points_list[i]\n",
    "    for n, dt in enumerate(dt_array):\n",
    "        cfl = c*dt/dx\n",
    "        err1_array[i,n] = min(err1,1)\n",
    "        err2_array[i,n] = min(err2,0.25)\n",
    "        # Code to compute the FTUS solution for this choice of dx, dt, num_points, etc.\n",
    "        # and then compute (and store) the two error statistics.\n",
    "       \n",
    "\n",
    "# Code to plot the maximum error as a function of dt and dx\n",
    "plt.pcolormesh(dt_array, dx_list, err1_array)\n",
    "plt.colorbar()\n",
    "plt.xlabel('dt')\n",
    "plt.ylabel('dx')\n",
    "plt.title('Maximum CFL Error (Capped at 1)')\n",
    "plt.show()"
   ]
  },
  {
   "cell_type": "code",
   "execution_count": 15,
   "id": "economic-front",
   "metadata": {},
   "outputs": [
    {
     "data": {
      "image/png": "[encoded data removed]",
      "text/plain": [
       "<Figure size 432x288 with 2 Axes>"
      ]
     },
     "metadata": {
      "needs_background": "light"
     },
     "output_type": "display_data"
    }
   ],
   "source": [
    "# Code to plot the mean error as a function of dt and dx\n",
    "plt.pcolormesh(dt_array, dx_list, err2_array)\n",
    "plt.colorbar()\n",
    "plt.xlabel('dt')\n",
    "plt.ylabel('dx')\n",
    "plt.title('Mean CFL Error (Capped at 0.25)')\n",
    "plt.show()"
   ]
  },
  {
   "cell_type": "markdown",
   "id": "young-highway",
   "metadata": {},
   "source": [
    "Now analyze the following schemes in the same way:\n",
    "## Leapfrog for time, centered for space\n",
    "\n",
    "The Leapfrog time scheme is defined as $$\\frac{u^{n+1}-u^{n-1}}{2\\Delta t} = f(u^n)$$\n",
    "\n",
    "Note that this scheme requires two time levels ($n-1$ and $n$) to compute time level $n+1$, unlike the forward-in-time scheme. This means the initial condition must be specified at two times, $n=0$ (which corresponds to $t=0$) and $n=1$ (which corresponds to $t=\\Delta t$).\n",
    "\n",
    "The centered in space scheme is similar. At point $j$ and time level $n$, $$-c \\frac{\\partial u}{\\partial x} \\approx -c \\frac{u_{j+1}^n-u_{j-1}^n}{2 \\Delta x}$$\n",
    "\n",
    "### Python function implementing this scheme:"
   ]
  },
  {
   "cell_type": "code",
   "execution_count": null,
   "id": "statutory-tracy",
   "metadata": {},
   "outputs": [],
   "source": [
    "def advect_FTUS(u0, cfl, ntimes=100, npts=101):\n",
    "    u_new = np.zeros(npts)\n",
    "    u_t0 = u0.copy()\n",
    "    \n",
    "    for k in range(ntimes):\n",
    "        u_new[1:npts] = u_t0[1:npts] - cfl*(u_t0[1:npts] - u_t0[0:npts-1])\n",
    "        u_new[0] = u_new[-1]\n",
    "        u_t0=u_new.copy()\n",
    "    return u_new"
   ]
  },
  {
   "cell_type": "markdown",
   "id": "republican-american",
   "metadata": {
    "tags": []
   },
   "source": [
    "### Plot after one revolution with 91 x points, dt = 0.01"
   ]
  },
  {
   "cell_type": "code",
   "execution_count": null,
   "id": "original-sigma",
   "metadata": {
    "tags": []
   },
   "outputs": [],
   "source": [
    "x, ui0 = init2_u(num_points, xl=x_left, xr=x_right, t0=0.)\n",
    "out = advect_FTUS(ui0, cfl, ntimes, npts=num_points)\n",
    "\n",
    "plt.plot(x, ui0, x, out)"
   ]
  },
  {
   "cell_type": "markdown",
   "id": "demographic-bishop",
   "metadata": {},
   "source": [
    "### Max Error and Mean Error Plots as functions of dt and dx"
   ]
  },
  {
   "cell_type": "code",
   "execution_count": null,
   "id": "systematic-brown",
   "metadata": {},
   "outputs": [],
   "source": []
  },
  {
   "cell_type": "markdown",
   "id": "verified-space",
   "metadata": {},
   "source": [
    "## Adams-Bashforth for time, upstream for space\n",
    "\n",
    "The Adams-Bashforth scheme is second order in time, and defined as $$\\frac{u^{n+1}-u^{n}}{\\Delta t} = f(\\frac{3}{2}u^n-\\frac{1}{2}u^{n-1})$$\n",
    "\n",
    "As with the Leapfrog scheme, computing the solution at time level $n+1$ requires the results from the previous two time levels.\n",
    "\n",
    "### Python function implementing this scheme:"
   ]
  },
  {
   "cell_type": "code",
   "execution_count": null,
   "id": "likely-focus",
   "metadata": {},
   "outputs": [],
   "source": []
  },
  {
   "cell_type": "markdown",
   "id": "quick-detector",
   "metadata": {
    "tags": []
   },
   "source": [
    "### Plot after one revolution with 91 x points, dt = 0.01"
   ]
  },
  {
   "cell_type": "code",
   "execution_count": null,
   "id": "damaged-television",
   "metadata": {
    "tags": []
   },
   "outputs": [],
   "source": []
  },
  {
   "cell_type": "markdown",
   "id": "widespread-drive",
   "metadata": {},
   "source": [
    "### Max Error and Mean Error Plots as functions of dt and dx"
   ]
  },
  {
   "cell_type": "code",
   "execution_count": 1,
   "id": "patient-heath",
   "metadata": {},
   "outputs": [
    {
     "ename": "SyntaxError",
     "evalue": "unmatched ')' (<ipython-input-1-470d945d5ef3>, line 1)",
     "output_type": "error",
     "traceback": [
      "\u001b[0;36m  File \u001b[0;32m\"<ipython-input-1-470d945d5ef3>\"\u001b[0;36m, line \u001b[0;32m1\u001b[0m\n\u001b[0;31m    okay :)\u001b[0m\n\u001b[0m          ^\u001b[0m\n\u001b[0;31mSyntaxError\u001b[0m\u001b[0;31m:\u001b[0m unmatched ')'\n"
     ]
    }
   ],
   "source": [
    "okay :)"
   ]
  },
  {
   "cell_type": "markdown",
   "id": "shaped-karma",
   "metadata": {},
   "source": [
    "## Matsuno for time, upstream for space\n",
    "\n",
    "The Matsuno scheme is a *predictor-corrector* scheme, meaning that you first form an intermediate solution (the predictor step, indicated by time level $*$), then improve that solution (the corrector step) to arrive at the actual solution for the next timestep. It is defined as:\n",
    "$$\\frac{u^{*}-u^n}{\\Delta t}=f(u^n)$$\n",
    "followed by\n",
    "$$\\frac{u^{n+1}-u^n}{\\Delta t}=f(u^{*})$$\n",
    "With this scheme, only a single initial condition is required, for $n = 0$ ($t = 0$).\n",
    "\n",
    "### Python function implementing this scheme:"
   ]
  },
  {
   "cell_type": "code",
   "execution_count": null,
   "id": "worldwide-donna",
   "metadata": {},
   "outputs": [],
   "source": []
  },
  {
   "cell_type": "markdown",
   "id": "eastern-messenger",
   "metadata": {
    "tags": []
   },
   "source": [
    "### Plot after one revolution with 91 x points, dt = 0.01"
   ]
  },
  {
   "cell_type": "code",
   "execution_count": null,
   "id": "legal-liberty",
   "metadata": {
    "tags": []
   },
   "outputs": [],
   "source": []
  },
  {
   "cell_type": "markdown",
   "id": "fifteen-partner",
   "metadata": {},
   "source": [
    "### Max Error and Mean Error Plots as functions of dt and dx"
   ]
  },
  {
   "cell_type": "code",
   "execution_count": null,
   "id": "steady-limitation",
   "metadata": {},
   "outputs": [],
   "source": []
  },
  {
   "cell_type": "markdown",
   "id": "foster-folder",
   "metadata": {},
   "source": [
    "## Forward-in-time, third-order upwind scheme\n",
    "\n",
    "The third-order upwind scheme is defined as:\n",
    "$$-c \\frac{\\partial u}{\\partial x} \\approx -c \\frac{3u_{j+1}^n+3u_{j}^n-7u_{j-1}^n+u_{j-2}^n}{8 \\Delta x}$$\n",
    "\n",
    "### Python function implementing this scheme:"
   ]
  },
  {
   "cell_type": "code",
   "execution_count": null,
   "id": "cross-aspect",
   "metadata": {},
   "outputs": [],
   "source": []
  },
  {
   "cell_type": "markdown",
   "id": "primary-freedom",
   "metadata": {
    "tags": []
   },
   "source": [
    "### Plot after one revolution with 91 x points, dt = 0.01"
   ]
  },
  {
   "cell_type": "code",
   "execution_count": null,
   "id": "guilty-armstrong",
   "metadata": {
    "tags": []
   },
   "outputs": [],
   "source": []
  },
  {
   "cell_type": "markdown",
   "id": "cognitive-trademark",
   "metadata": {},
   "source": [
    "### Max Error and Mean Error Plots as functions of dt and dx"
   ]
  },
  {
   "cell_type": "code",
   "execution_count": null,
   "id": "dynamic-appendix",
   "metadata": {},
   "outputs": [],
   "source": []
  },
  {
   "cell_type": "markdown",
   "id": "overall-conflict",
   "metadata": {},
   "source": [
    "# Conclusions\n",
    "\n",
    "Write a paragraph or two describing what you learned going through the exercises.  How do these schemes behave as dx and dt change?  In what ways do the schemes behave differently?"
   ]
  },
  {
   "cell_type": "markdown",
   "id": "racial-livestock",
   "metadata": {},
   "source": []
  }
 ],
 "metadata": {
  "kernelspec": {
   "display_name": "Python 3 (ipykernel)",
   "language": "python",
   "name": "python3"
  },
  "language_info": {
   "codemirror_mode": {
    "name": "ipython",
    "version": 3
   },
   "file_extension": ".py",
   "mimetype": "text/x-python",
   "name": "python",
   "nbconvert_exporter": "python",
   "pygments_lexer": "ipython3",
   "version": "3.9.9"
  }
 },
 "nbformat": 4,
 "nbformat_minor": 5
}
