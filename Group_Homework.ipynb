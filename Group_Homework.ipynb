{
 "cells": [
  {
   "cell_type": "markdown",
   "id": "recent-orchestra",
   "metadata": {},
   "source": [
    "# Group Exercise"
   ]
  },
  {
   "cell_type": "code",
   "execution_count": 1,
   "id": "growing-premises",
   "metadata": {},
   "outputs": [],
   "source": [
    "import numpy as np\n",
    "import matplotlib.pyplot as plt"
   ]
  },
  {
   "cell_type": "markdown",
   "id": "valued-indonesia",
   "metadata": {},
   "source": [
    "For this group exercises, work with the second initial condition from Monday (involving the $\\cos$ function, $10\\pi$, etc.). Put your code here:"
   ]
  },
  {
   "cell_type": "code",
   "execution_count": 2,
   "id": "changed-linux",
   "metadata": {},
   "outputs": [],
   "source": [
    "def init_2u(t0,npts, xl, xr):\n",
    "    x = np.linspace(xl,xr,npts)\n",
    "    out = (0.5*(1+np.cos(10*np.pi*(x-t0-0.5))))**4\n",
    "    for i,j in enumerate(x):\n",
    "        if x[i] < 0.4:\n",
    "            out[i] = 0\n",
    "        if x[i] > 0.6:\n",
    "            out[i] = 0\n",
    "        else:\n",
    "            None\n",
    "    return x, out"
   ]
  },
  {
   "cell_type": "markdown",
   "id": "medical-intervention",
   "metadata": {},
   "source": [
    "The equation we are solving is: $$\\frac{\\partial u}{\\partial t} + c \\frac{\\partial u}{\\partial x} = 0$$\n",
    "\n",
    "So far, we have explored the forward-in-time, upstream scheme applied to this equation, which results in:\n",
    "$$\\frac{u_j^{n+1}-u_j^n}{\\Delta t} + c \\frac{u_j^n-u_{j-1}^n}{\\Delta x} = 0$$\n",
    "\n",
    "Here, $j$ is the index for an arbitrary grid point in the $x$ direction, and $n$ is an arbitrary index in time.\n",
    "\n",
    "Because this is an explicit scheme, we can explicitly solve this equation for the value of $u$ at each grid point at the next timestep:\n",
    "$$u_j^{n+1} = u_j^n - \\left(\\frac{c\\Delta t}{\\Delta x}\\right)\\left(u_j^n-u_{j-1}^n\\right)$$\n",
    "\n",
    "For future reference, note that we can write the general form of the forward-in-time scheme as:\n",
    "$$\\frac{u^{n+1}-u^n}{\\Delta t}=f(u^n)$$\n",
    "\n",
    "Here, $f(u^n)$ represents how the term $-c\\frac{\\partial u}{\\partial x}$ is discretized. This form makes clear that the particulars of the time scheme are independent of the particulars of the spatial discretization scheme. (You can mix and match whichever time scheme you like with whatever spatial scheme you like.)\n",
    "\n",
    "#### Python function implementing forward-in-time, upstream scheme:"
   ]
  },
  {
   "cell_type": "code",
   "execution_count": 3,
   "id": "adapted-aluminum",
   "metadata": {},
   "outputs": [],
   "source": [
    "def advect_FTUS(u0, cfl, ntimes=100, npts=101):\n",
    "    u_new = np.zeros(npts)\n",
    "    u_t0 = u0.copy()\n",
    "    \n",
    "    for k in range(ntimes):\n",
    "        u_new[1:npts] = u_t0[1:npts] - cfl*(u_t0[1:npts] - u_t0[0:npts-1])\n",
    "        #for j in range(1, npts):\n",
    "           # u_new[j] = u_t0[j] - cfl*(u_t0[j] - u_t0[j-1])\n",
    "        u_new[0] = u_new[-1]\n",
    "        u_t0=u_new.copy()\n",
    "    return u_new"
   ]
  },
  {
   "cell_type": "markdown",
   "id": "super-church",
   "metadata": {},
   "source": [
    "## Error analysis of the forward-in-time, upstream scheme"
   ]
  },
  {
   "cell_type": "markdown",
   "id": "cleared-newfoundland",
   "metadata": {},
   "source": [
    "There are many ways we can quantify how accurate a numerical scheme is. In this exercise, we will use two methods: the maximum absolute error, and the mean absolute error. The code below implements these error measures."
   ]
  },
  {
   "cell_type": "code",
   "execution_count": 4,
   "id": "listed-confidence",
   "metadata": {},
   "outputs": [],
   "source": [
    "def max_err(solution, exact_solution):\n",
    "    error = np.abs(solution - exact_solution)\n",
    "    return np.max(error)"
   ]
  },
  {
   "cell_type": "code",
   "execution_count": 5,
   "id": "alternate-selection",
   "metadata": {},
   "outputs": [],
   "source": [
    "def mean_err(solution, exact_solution):\n",
    "    error = np.abs(solution - exact_solution)\n",
    "    return np.mean(error)"
   ]
  },
  {
   "cell_type": "markdown",
   "id": "finished-henry",
   "metadata": {},
   "source": [
    "Here is a particular grid and timestep setup, which you should use repeatedly later in the assignment:"
   ]
  },
  {
   "cell_type": "code",
   "execution_count": 6,
   "id": "elect-damage",
   "metadata": {},
   "outputs": [
    {
     "name": "stdout",
     "output_type": "stream",
     "text": [
      "c, dt, dx, CFL =  1 0.01 0.011111111111111112 0.9\n",
      "ntimes =  100\n"
     ]
    }
   ],
   "source": [
    "c = 1\n",
    "x_left = 0.\n",
    "x_right = 1.\n",
    "num_points = 91\n",
    "dx = (x_right-x_left)/(num_points-1)\n",
    "dt = .01\n",
    "cfl = c*dt/dx\n",
    "print('c, dt, dx, CFL = ', c, dt, dx, cfl)\n",
    "ntimes = int((x_right-x_left)/(c*dt))\n",
    "print('ntimes = ', ntimes)"
   ]
  },
  {
   "cell_type": "markdown",
   "id": "rural-holmes",
   "metadata": {},
   "source": [
    "And the solution after the wave travels all the way around to its starting position..."
   ]
  },
  {
   "cell_type": "code",
   "execution_count": 7,
   "id": "brave-trout",
   "metadata": {},
   "outputs": [
    {
     "data": {
      "text/plain": [
       "[<matplotlib.lines.Line2D at 0x7fbe02d7db20>,\n",
       " <matplotlib.lines.Line2D at 0x7fbe02d7db50>]"
      ]
     },
     "execution_count": 7,
     "metadata": {},
     "output_type": "execute_result"
    },
    {
     "data": {
      "image/png": "[encoded data removed]",
      "text/plain": [
       "<Figure size 432x288 with 1 Axes>"
      ]
     },
     "metadata": {
      "needs_background": "light"
     },
     "output_type": "display_data"
    }
   ],
   "source": [
    "x, ui0 = init_2u(0,num_points, 0, 1)\n",
    "out = advect_FTUS(ui0, cfl, ntimes, npts=num_points)\n",
    "\n",
    "plt.plot(x, ui0, x, out)"
   ]
  },
  {
   "cell_type": "markdown",
   "id": "declared-atlanta",
   "metadata": {},
   "source": [
    "The error in this case:"
   ]
  },
  {
   "cell_type": "code",
   "execution_count": 8,
   "id": "developmental-spokesman",
   "metadata": {},
   "outputs": [
    {
     "name": "stdout",
     "output_type": "stream",
     "text": [
      "Max: 0.4499556522038308   Mean: 0.03152093220808693\n"
     ]
    }
   ],
   "source": [
    "err1 = max_err(ui0, out)\n",
    "err2 = mean_err(ui0, out)\n",
    "print(f'Max: {err1}   Mean: {err2}')"
   ]
  },
  {
   "cell_type": "markdown",
   "id": "instrumental-temple",
   "metadata": {},
   "source": [
    "However let's explore how the error varies as dx and dt vary. For all parts of this assignment, use the settings given below. The number of points in the grid will vary from 11 to 501 as defined in `points_list`, and the timestep will vary from .001 to .05 (inclusive) by .001.\n",
    "\n",
    "To start with, here is how the CFL's number varies with dx and dt. The plotted values are capped at 1 to emphasize the variations when the CFL number indicates stability."
   ]
  },
  {
   "cell_type": "code",
   "execution_count": 9,
   "id": "subsequent-hopkins",
   "metadata": {},
   "outputs": [
    {
     "name": "stderr",
     "output_type": "stream",
     "text": [
      "<ipython-input-9-2e07cb6f1a34>:11: MatplotlibDeprecationWarning: shading='flat' when X and Y have the same dimensions as C is deprecated since 3.3.  Either specify the corners of the quadrilaterals with X and Y, or pass shading='auto', 'nearest' or 'gouraud', or set rcParams['pcolor.shading'].  This will become an error two minor releases later.\n",
      "  plt.pcolormesh(dt_array, dx_list, cfl_array)\n"
     ]
    },
    {
     "data": {
      "image/png": "[encoded data removed]",
      "text/plain": [
       "<Figure size 432x288 with 2 Axes>"
      ]
     },
     "metadata": {
      "needs_background": "light"
     },
     "output_type": "display_data"
    }
   ],
   "source": [
    "points_list = list(range(11,51,2)) + list(range(51,101,4)) + list(range(101, 402, 10))\n",
    "dx_list = [(x_right-x_left)/(num_points-1) for num_points in points_list]\n",
    "dt_array = np.arange(.001, .05001, .001)\n",
    "cfl_array = np.zeros((len(dx_list), len(dt_array)))\n",
    "\n",
    "for i, dx in enumerate(dx_list):\n",
    "    for n, dt in enumerate(dt_array):\n",
    "        cfl = c*dt/dx\n",
    "        cfl_array[i,n] = min(cfl,1)\n",
    "\n",
    "plt.pcolormesh(dt_array, dx_list, cfl_array)\n",
    "plt.colorbar()\n",
    "plt.xlabel('dt')\n",
    "plt.ylabel('dx')\n",
    "plt.title('CFL Number (Capped at 1)')\n",
    "plt.show()"
   ]
  },
  {
   "cell_type": "markdown",
   "id": "recent-reporter",
   "metadata": {},
   "source": [
    "Your task is to create similar plots but showing how the maximum error varies with dx and dt, and how the mean absolute error varies with dx and dt. For plotting purposes, cap the max error at 1 and mean error at 0.25 to reveal the finer details when the scheme is stable. (Since the exact solution ranges between 0 and 1, any errors larger than that imply the numerical solution has \"blown up\".)"
   ]
  },
  {
   "cell_type": "code",
   "execution_count": 10,
   "id": "sapphire-barrier",
   "metadata": {},
   "outputs": [
    {
     "name": "stderr",
     "output_type": "stream",
     "text": [
      "<ipython-input-10-163bc329f31c>:25: MatplotlibDeprecationWarning: shading='flat' when X and Y have the same dimensions as C is deprecated since 3.3.  Either specify the corners of the quadrilaterals with X and Y, or pass shading='auto', 'nearest' or 'gouraud', or set rcParams['pcolor.shading'].  This will become an error two minor releases later.\n",
      "  plt.pcolormesh(dt_array, dx_list, err1_array)\n"
     ]
    },
    {
     "data": {
      "image/png": "[encoded data removed]",
      "text/plain": [
       "<Figure size 432x288 with 2 Axes>"
      ]
     },
     "metadata": {
      "needs_background": "light"
     },
     "output_type": "display_data"
    }
   ],
   "source": [
    "import statistics \n",
    "\n",
    "c = 1\n",
    "x_left = 0.\n",
    "x_right = 1.\n",
    "num_points = 91\n",
    "\n",
    "err1_array = np.zeros_like(cfl_array)\n",
    "err2_array = np.zeros_like(cfl_array)\n",
    "\n",
    "for i, dx in enumerate(dx_list):\n",
    "    num_points = points_list[i]\n",
    "    for n, dt in enumerate(dt_array):\n",
    "        cfl = c*dt/dx\n",
    "\n",
    "        ntimes = int((x_right-x_left)/(c*dt))\n",
    "        x, ui0 = init_2u(0,num_points, 0, 1)\n",
    "        out = advect_FTUS(ui0, cfl, ntimes, npts=num_points)\n",
    "# Code to compute the FTUS solution for this choice of dx, dt, num_points, etc.\n",
    "# and then compute (and store) the two error statistics.\n",
    "        err1_array[i,n] = min(max_err(ui0, out),1)\n",
    "        err2_array[i,n] = min(mean_err(ui0, out),0.25)\n",
    "\n",
    "# Code to plot the maximum error as a function of dt and dx\n",
    "plt.pcolormesh(dt_array, dx_list, err1_array)\n",
    "plt.colorbar()\n",
    "plt.xlabel('dt')\n",
    "plt.ylabel('dx')\n",
    "plt.title('Maximum CFL Error (Capped at 1)')\n",
    "plt.show()"
   ]
  },
  {
   "cell_type": "code",
   "execution_count": 11,
   "id": "silent-wilderness",
   "metadata": {},
   "outputs": [
    {
     "name": "stderr",
     "output_type": "stream",
     "text": [
      "<ipython-input-11-ba0d61a19be7>:2: MatplotlibDeprecationWarning: shading='flat' when X and Y have the same dimensions as C is deprecated since 3.3.  Either specify the corners of the quadrilaterals with X and Y, or pass shading='auto', 'nearest' or 'gouraud', or set rcParams['pcolor.shading'].  This will become an error two minor releases later.\n",
      "  plt.pcolormesh(dt_array, dx_list, err2_array)\n"
     ]
    },
    {
     "data": {
      "image/png": "[encoded data removed]",
      "text/plain": [
       "<Figure size 432x288 with 2 Axes>"
      ]
     },
     "metadata": {
      "needs_background": "light"
     },
     "output_type": "display_data"
    }
   ],
   "source": [
    "# Code to plot the mean error as a function of dt and dx\n",
    "plt.pcolormesh(dt_array, dx_list, err2_array)\n",
    "plt.colorbar()\n",
    "plt.xlabel('dt')\n",
    "plt.ylabel('dx')\n",
    "plt.title('Mean CFL Error (Capped at 0.25)')\n",
    "plt.show()"
   ]
  },
  {
   "cell_type": "markdown",
   "id": "forty-allen",
   "metadata": {},
   "source": [
    "Now analyze the following schemes in the same way:\n",
    "## Leapfrog for time, centered for space\n",
    "\n",
    "The Leapfrog time scheme is defined as $$\\frac{u^{n+1}-u^{n-1}}{2\\Delta t} = f(u^n)$$\n",
    "\n",
    "Note that this scheme requires two time levels ($n-1$ and $n$) to compute time level $n+1$, unlike the forward-in-time scheme. This means the initial condition must be specified at two times, $n=0$ (which corresponds to $t=0$) and $n=1$ (which corresponds to $t=\\Delta t$).\n",
    "\n",
    "The centered in space scheme is similar. At point $j$ and time level $n$, $$-c \\frac{\\partial u}{\\partial x} \\approx -c \\frac{u_{j+1}^n-u_{j-1}^n}{2 \\Delta x}$$\n",
    "\n",
    "### Python function implementing this scheme:"
   ]
  },
  {
   "cell_type": "code",
   "execution_count": null,
   "id": "exterior-brazil",
   "metadata": {},
   "outputs": [],
   "source": []
  },
  {
   "cell_type": "code",
   "execution_count": 48,
   "id": "contemporary-vegetable",
   "metadata": {},
   "outputs": [
    {
     "name": "stdout",
     "output_type": "stream",
     "text": [
      "c, dt, dx, CFL =  1 0.01 0.011111111111111112 0.9\n",
      "ntimes =  100\n"
     ]
    }
   ],
   "source": [
    "#Normal Way\n",
    "#x, ui0 = init_2u(0, num_points, 0, 1)\n",
    "#x, ui1 = init_2u(0.01, num_points, 0, 1)\n",
    "def leapfrog(u0, u1, cfl, ntimes=100, npts=91):\n",
    "    u_new = np.zeros(npts)\n",
    "    u_t0 = u0.copy()\n",
    "    u_t1 = u1.copy()\n",
    "    for k in range(ntimes):\n",
    "        u_new[1:npts] = u_t0[1:npts] - cfl*(u_t0[1:npts+1] - u_t1[0:npts-1])\n",
    "        u_new[0] = u_new[-1]\n",
    "        u_t0=u1.copy()\n",
    "        u_t1=u_new.copy()\n",
    "    return u_new\n",
    "\n",
    "c = 1\n",
    "x_left = 0.\n",
    "x_right = 1.\n",
    "num_points = 91\n",
    "dx = (x_right-x_left)/(num_points-1)\n",
    "dt = .01\n",
    "cfl = c*dt/dx\n",
    "print('c, dt, dx, CFL = ', c, dt, dx, cfl)\n",
    "ntimes = int((x_right-x_left)/(c*dt))\n",
    "print('ntimes = ', ntimes)\n"
   ]
  },
  {
   "cell_type": "markdown",
   "id": "refined-seller",
   "metadata": {
    "tags": []
   },
   "source": [
    "### Plot after one revolution with 91 x points, dt = 0.01"
   ]
  },
  {
   "cell_type": "code",
   "execution_count": 49,
   "id": "stopped-league",
   "metadata": {
    "tags": []
   },
   "outputs": [
    {
     "data": {
      "text/plain": [
       "[<matplotlib.lines.Line2D at 0x7fbe005c2970>,\n",
       " <matplotlib.lines.Line2D at 0x7fbe005c29a0>,\n",
       " <matplotlib.lines.Line2D at 0x7fbe005c2ac0>]"
      ]
     },
     "execution_count": 49,
     "metadata": {},
     "output_type": "execute_result"
    },
    {
     "data": {
      "image/png": "[encoded data removed]",
      "text/plain": [
       "<Figure size 432x288 with 1 Axes>"
      ]
     },
     "metadata": {
      "needs_background": "light"
     },
     "output_type": "display_data"
    }
   ],
   "source": [
    "x, ui0 = init_2u(0, num_points, 0, 1)\n",
    "x, ui1 = init_2u(0.01, num_points, 0, 1)\n",
    "out = leapfrog(ui0, ui1, cfl, ntimes, npts=num_points)\n",
    "plt.plot(x,ui0,x,ui1, x, out)"
   ]
  },
  {
   "cell_type": "markdown",
   "id": "interpreted-london",
   "metadata": {},
   "source": [
    "### Max Error and Mean Error Plots as functions of dt and dx"
   ]
  },
  {
   "cell_type": "code",
   "execution_count": 50,
   "id": "inner-discipline",
   "metadata": {},
   "outputs": [
    {
     "name": "stderr",
     "output_type": "stream",
     "text": [
      "<ipython-input-50-3c49f2f94212>:23: MatplotlibDeprecationWarning: shading='flat' when X and Y have the same dimensions as C is deprecated since 3.3.  Either specify the corners of the quadrilaterals with X and Y, or pass shading='auto', 'nearest' or 'gouraud', or set rcParams['pcolor.shading'].  This will become an error two minor releases later.\n",
      "  plt.pcolormesh(dt_array, dx_list, err3_array)\n"
     ]
    },
    {
     "data": {
      "image/png": "[encoded data removed]",
      "text/plain": [
       "<Figure size 432x288 with 2 Axes>"
      ]
     },
     "metadata": {
      "needs_background": "light"
     },
     "output_type": "display_data"
    },
    {
     "name": "stderr",
     "output_type": "stream",
     "text": [
      "<ipython-input-50-3c49f2f94212>:31: MatplotlibDeprecationWarning: shading='flat' when X and Y have the same dimensions as C is deprecated since 3.3.  Either specify the corners of the quadrilaterals with X and Y, or pass shading='auto', 'nearest' or 'gouraud', or set rcParams['pcolor.shading'].  This will become an error two minor releases later.\n",
      "  plt.pcolormesh(dt_array, dx_list, err4_array)\n"
     ]
    },
    {
     "data": {
      "image/png": "[encoded data removed]",
      "text/plain": [
       "<Figure size 432x288 with 2 Axes>"
      ]
     },
     "metadata": {
      "needs_background": "light"
     },
     "output_type": "display_data"
    }
   ],
   "source": [
    "c = 1\n",
    "x_left = 0.\n",
    "x_right = 1.\n",
    "num_points = 91\n",
    "\n",
    "err3_array = np.zeros_like(cfl_array)\n",
    "err4_array = np.zeros_like(cfl_array)\n",
    "\n",
    "for i, dx in enumerate(dx_list):\n",
    "    num_points = points_list[i]\n",
    "    for n, dt in enumerate(dt_array):\n",
    "        cfl = c*dt/dx\n",
    "\n",
    "        ntimes = int((x_right-x_left)/(c*dt))\n",
    "        x, ui0 = init_2u(0, num_points, 0, 1)\n",
    "        x, ui1 = init_2u(0.01, num_points, 0, 1)\n",
    "        out = leapfrog(ui0, ui1, cfl, ntimes, npts=num_points)\n",
    "\n",
    "        err3_array[i,n] = min(max_err(ui1, out),1)\n",
    "        err4_array[i,n] = min(mean_err(ui1, out),0.25)\n",
    "\n",
    "# Code to plot the maximum error as a function of dt and dx\n",
    "plt.pcolormesh(dt_array, dx_list, err3_array)\n",
    "plt.colorbar()\n",
    "plt.xlabel('dt')\n",
    "plt.ylabel('dx')\n",
    "plt.title('Maximum CFL Error (Capped at 1)')\n",
    "plt.show()\n",
    "\n",
    "\n",
    "plt.pcolormesh(dt_array, dx_list, err4_array)\n",
    "plt.colorbar()\n",
    "plt.xlabel('dt')\n",
    "plt.ylabel('dx')\n",
    "plt.title('Mean CFL Error (Capped at 0.25)')\n",
    "plt.show()"
   ]
  },
  {
   "cell_type": "markdown",
   "id": "common-paraguay",
   "metadata": {},
   "source": [
    "## Adams-Bashforth for time, upstream for space\n",
    "\n",
    "The Adams-Bashforth scheme is second order in time, and defined as $$\\frac{u^{n+1}-u^{n}}{\\Delta t} = f(\\frac{3}{2}u^n-\\frac{1}{2}u^{n-1})$$\n",
    "\n",
    "As with the Leapfrog scheme, computing the solution at time level $n+1$ requires the results from the previous two time levels.\n",
    "\n",
    "### Python function implementing this scheme:"
   ]
  },
  {
   "cell_type": "code",
   "execution_count": 51,
   "id": "rapid-paradise",
   "metadata": {},
   "outputs": [
    {
     "name": "stdout",
     "output_type": "stream",
     "text": [
      "c, dt, dx, CFL =  1 0.01 0.011111111111111112 0.9\n",
      "ntimes =  100\n"
     ]
    }
   ],
   "source": [
    "def adams(u0, u1, cfl, ntimes=100, npts=101):\n",
    "    u_new = np.zeros(npts)\n",
    "    u_t0 = u0.copy()\n",
    "    u_t1 = u1.copy()\n",
    "    for k in range(ntimes):\n",
    "        u_new[1:npts] =  u_t1[1:npts] + cfl*((1.5*u_t0[1:npts+1]) - (0.5* u_t0[0:npts-1]))\n",
    "        #for j in range(1, npts):\n",
    "            #u_new[j] = u_t1[j] - cfl*(u_t0[j+1] - u_t0[j-1])\n",
    "        u_new[0] = u_new[-1]\n",
    "        u_t0=u_new.copy()\n",
    "        u_t1=u_new.copy()\n",
    "    return u_new\n",
    "c = 1\n",
    "x_left = 0.\n",
    "x_right = 1.\n",
    "num_points = 91\n",
    "dx = (x_right-x_left)/(num_points-1)\n",
    "dt = .01\n",
    "cfl = c*dt/dx\n",
    "print('c, dt, dx, CFL = ', c, dt, dx, cfl)\n",
    "ntimes = int((x_right-x_left)/(c*dt))\n",
    "print('ntimes = ', ntimes)\n"
   ]
  },
  {
   "cell_type": "markdown",
   "id": "demonstrated-thinking",
   "metadata": {
    "tags": []
   },
   "source": [
    "### Plot after one revolution with 91 x points, dt = 0.01"
   ]
  },
  {
   "cell_type": "code",
   "execution_count": 52,
   "id": "found-detection",
   "metadata": {
    "tags": []
   },
   "outputs": [
    {
     "data": {
      "text/plain": [
       "[<matplotlib.lines.Line2D at 0x7fbe0051bd00>,\n",
       " <matplotlib.lines.Line2D at 0x7fbe0051bd30>,\n",
       " <matplotlib.lines.Line2D at 0x7fbe0051be50>]"
      ]
     },
     "execution_count": 52,
     "metadata": {},
     "output_type": "execute_result"
    },
    {
     "data": {
      "image/png": "[encoded data removed]",
      "text/plain": [
       "<Figure size 432x288 with 1 Axes>"
      ]
     },
     "metadata": {
      "needs_background": "light"
     },
     "output_type": "display_data"
    }
   ],
   "source": [
    "x, ui0 = init_2u(0, num_points, 0, 1)\n",
    "x, ui1 = init_2u(0.01, num_points, 0, 1)\n",
    "out = adams(ui0, ui1, cfl, ntimes, npts=num_points)\n",
    "plt.plot(x,ui0,x,ui1, x, out)"
   ]
  },
  {
   "cell_type": "markdown",
   "id": "immune-century",
   "metadata": {},
   "source": [
    "### Max Error and Mean Error Plots as functions of dt and dx"
   ]
  },
  {
   "cell_type": "code",
   "execution_count": 17,
   "id": "surprised-pride",
   "metadata": {},
   "outputs": [
    {
     "name": "stderr",
     "output_type": "stream",
     "text": [
      "<ipython-input-17-c0f3b523be2d>:23: MatplotlibDeprecationWarning: shading='flat' when X and Y have the same dimensions as C is deprecated since 3.3.  Either specify the corners of the quadrilaterals with X and Y, or pass shading='auto', 'nearest' or 'gouraud', or set rcParams['pcolor.shading'].  This will become an error two minor releases later.\n",
      "  plt.pcolormesh(dt_array, dx_list, err3_array)\n"
     ]
    },
    {
     "data": {
      "image/png": "[encoded data removed]",
      "text/plain": [
       "<Figure size 432x288 with 2 Axes>"
      ]
     },
     "metadata": {
      "needs_background": "light"
     },
     "output_type": "display_data"
    },
    {
     "name": "stderr",
     "output_type": "stream",
     "text": [
      "<ipython-input-17-c0f3b523be2d>:31: MatplotlibDeprecationWarning: shading='flat' when X and Y have the same dimensions as C is deprecated since 3.3.  Either specify the corners of the quadrilaterals with X and Y, or pass shading='auto', 'nearest' or 'gouraud', or set rcParams['pcolor.shading'].  This will become an error two minor releases later.\n",
      "  plt.pcolormesh(dt_array, dx_list, err4_array)\n"
     ]
    },
    {
     "data": {
      "image/png": "[encoded data removed]",
      "text/plain": [
       "<Figure size 432x288 with 2 Axes>"
      ]
     },
     "metadata": {
      "needs_background": "light"
     },
     "output_type": "display_data"
    }
   ],
   "source": [
    "c = 1\n",
    "x_left = 0.\n",
    "x_right = 1.\n",
    "num_points = 91\n",
    "\n",
    "err3_array = np.zeros_like(cfl_array)\n",
    "err4_array = np.zeros_like(cfl_array)\n",
    "\n",
    "for i, dx in enumerate(dx_list):\n",
    "    num_points = points_list[i]\n",
    "    for n, dt in enumerate(dt_array):\n",
    "        cfl = c*dt/dx\n",
    "\n",
    "        ntimes = int((x_right-x_left)/(c*dt))\n",
    "        x, ui0 = init_2u(0, num_points, 0, 1)\n",
    "        x, ui1 = init_2u(0.01, num_points, 0, 1)\n",
    "        out = adams(ui0, ui1, cfl, ntimes, npts=num_points)\n",
    "\n",
    "        err3_array[i,n] = min(max_err(ui0, out),1)\n",
    "        err4_array[i,n] = min(mean_err(ui0, out),0.25)\n",
    "\n",
    "# Code to plot the maximum error as a function of dt and dx\n",
    "plt.pcolormesh(dt_array, dx_list, err3_array)\n",
    "plt.colorbar()\n",
    "plt.xlabel('dt')\n",
    "plt.ylabel('dx')\n",
    "plt.title('Maximum CFL Error (Capped at 1)')\n",
    "plt.show()\n",
    "\n",
    "\n",
    "plt.pcolormesh(dt_array, dx_list, err4_array)\n",
    "plt.colorbar()\n",
    "plt.xlabel('dt')\n",
    "plt.ylabel('dx')\n",
    "plt.title('Mean CFL Error (Capped at 0.25)')\n",
    "plt.show()"
   ]
  },
  {
   "cell_type": "markdown",
   "id": "inner-archive",
   "metadata": {},
   "source": [
    "## Matsuno for time, upstream for space\n",
    "\n",
    "The Matsuno scheme is a *predictor-corrector* scheme, meaning that you first form an intermediate solution (the predictor step, indicated by time level $*$), then improve that solution (the corrector step) to arrive at the actual solution for the next timestep. It is defined as:\n",
    "$$\\frac{u^{*}-u^n}{\\Delta t}=f(u^n)$$\n",
    "followed by\n",
    "$$\\frac{u^{n+1}-u^n}{\\Delta t}=f(u^{*})$$\n",
    "With this scheme, only a single initial condition is required, for $n = 0$ ($t = 0$).\n",
    "\n",
    "### Python function implementing this scheme:"
   ]
  },
  {
   "cell_type": "code",
   "execution_count": null,
   "id": "tamil-techno",
   "metadata": {},
   "outputs": [],
   "source": []
  },
  {
   "cell_type": "markdown",
   "id": "floppy-headquarters",
   "metadata": {
    "tags": []
   },
   "source": [
    "### Plot after one revolution with 91 x points, dt = 0.01"
   ]
  },
  {
   "cell_type": "code",
   "execution_count": null,
   "id": "alpha-benjamin",
   "metadata": {
    "tags": []
   },
   "outputs": [],
   "source": []
  },
  {
   "cell_type": "markdown",
   "id": "suspected-citation",
   "metadata": {},
   "source": [
    "### Max Error and Mean Error Plots as functions of dt and dx"
   ]
  },
  {
   "cell_type": "code",
   "execution_count": null,
   "id": "fabulous-amino",
   "metadata": {},
   "outputs": [],
   "source": []
  },
  {
   "cell_type": "markdown",
   "id": "critical-arabic",
   "metadata": {},
   "source": [
    "## Forward-in-time, third-order upwind scheme\n",
    "\n",
    "The third-order upwind scheme is defined as:\n",
    "$$-c \\frac{\\partial u}{\\partial x} \\approx -c \\frac{3u_{j+1}^n+3u_{j}^n-7u_{j-1}^n+u_{j-2}^n}{8 \\Delta x}$$\n",
    "\n",
    "### Python function implementing this scheme:"
   ]
  },
  {
   "cell_type": "code",
   "execution_count": null,
   "id": "handy-subsection",
   "metadata": {},
   "outputs": [],
   "source": []
  },
  {
   "cell_type": "markdown",
   "id": "conservative-fisher",
   "metadata": {
    "tags": []
   },
   "source": [
    "### Plot after one revolution with 91 x points, dt = 0.01"
   ]
  },
  {
   "cell_type": "code",
   "execution_count": null,
   "id": "funny-hawaii",
   "metadata": {
    "tags": []
   },
   "outputs": [],
   "source": []
  },
  {
   "cell_type": "markdown",
   "id": "fresh-publisher",
   "metadata": {},
   "source": [
    "### Max Error and Mean Error Plots as functions of dt and dx"
   ]
  },
  {
   "cell_type": "code",
   "execution_count": null,
   "id": "beneficial-sunglasses",
   "metadata": {},
   "outputs": [],
   "source": []
  },
  {
   "cell_type": "markdown",
   "id": "corresponding-christmas",
   "metadata": {},
   "source": [
    "# Conclusions\n",
    "\n",
    "Write a paragraph or two describing what you learned going through the exercises.  How do these schemes behave as dx and dt change?  In what ways do the schemes behave differently?"
   ]
  },
  {
   "cell_type": "markdown",
   "id": "involved-conflict",
   "metadata": {},
   "source": []
  },
  {
   "cell_type": "code",
   "execution_count": null,
   "id": "obvious-queen",
   "metadata": {},
   "outputs": [],
   "source": []
  }
 ],
 "metadata": {
  "kernelspec": {
   "display_name": "Python 3",
   "language": "python",
   "name": "python3"
  },
  "language_info": {
   "codemirror_mode": {
    "name": "ipython",
    "version": 3
   },
   "file_extension": ".py",
   "mimetype": "text/x-python",
   "name": "python",
   "nbconvert_exporter": "python",
   "pygments_lexer": "ipython3",
   "version": "3.9.1"
  }
 },
 "nbformat": 4,
 "nbformat_minor": 5
}
