{
 "cells": [
  {
   "cell_type": "markdown",
   "id": "4df430a6-3aae-4c93-b880-2605e7fbd5cc",
   "metadata": {},
   "source": [
    "# Group Exercise"
   ]
  },
  {
   "cell_type": "code",
<<<<<<< HEAD
   "execution_count": null,
<<<<<<< HEAD
   "id": "apparent-insulin",
=======
   "execution_count": 1,
   "id": "047b2695-fbfe-4cb8-85a1-447b8b553891",
>>>>>>> 6752a350d82eee92574c9360385ada9ba788aae9
=======
   "id": "047b2695-fbfe-4cb8-85a1-447b8b553891",
>>>>>>> parent of 42415c3... Made no changes
   "metadata": {},
   "outputs": [],
   "source": [
    "import numpy as np\n",
    "import matplotlib.pyplot as plt"
   ]
  },
  {
   "cell_type": "markdown",
   "id": "20a7617b-e35b-47cf-9775-6893c9f2a6fe",
   "metadata": {},
   "source": [
    "For this group exercise, work with the second initial condition from Monday (involving the $\\cos$ function, $10\\pi$, etc.). Put your code here:"
   ]
  },
  {
   "cell_type": "code",
<<<<<<< HEAD
   "execution_count": null,
<<<<<<< HEAD
   "id": "conventional-bronze",
=======
   "execution_count": 8,
   "id": "9d4276dc-fce0-4d2f-b7ac-2fef7fc96c07",
>>>>>>> 6752a350d82eee92574c9360385ada9ba788aae9
=======
   "id": "9d4276dc-fce0-4d2f-b7ac-2fef7fc96c07",
>>>>>>> parent of 42415c3... Made no changes
   "metadata": {},
   "outputs": [],
   "source": [
    "def init_2u(t0,npts, xl, xr):\n",
    "    x = np.linspace(xl,xr,npts)\n",
    "    out = (0.5*(1+np.cos(10*np.pi*(x-t0-0.5))))**4\n",
    "    for i,j in enumerate(x):\n",
    "        if x[i] < 0.4:\n",
    "            out[i] = 0\n",
    "        if x[i] > 0.6:\n",
    "            out[i] = 0\n",
    "        else:\n",
    "            None\n",
    "    return x, out"
   ]
  },
  {
   "cell_type": "markdown",
   "id": "c82be5d2-05ef-45e6-baf7-2e0a4eac3e54",
   "metadata": {},
   "source": [
    "The equation we are solving is: $$\\frac{\\partial u}{\\partial t} + c \\frac{\\partial u}{\\partial x} = 0$$\n",
    "\n",
    "So far, we have explored the forward-in-time, upstream scheme applied to this equation, which results in:\n",
    "$$\\frac{u_j^{n+1}-u_j^n}{\\Delta t} + c \\frac{u_j^n-u_{j-1}^n}{\\Delta x} = 0$$\n",
    "\n",
    "Here, $j$ is the index for an arbitrary grid point in the $x$ direction, and $n$ is an arbitrary index in time.\n",
    "\n",
    "Because this is an explicit scheme, we can explicitly solve this equation for the value of $u$ at each grid point at the next timestep:\n",
    "$$u_j^{n+1} = u_j^n - \\left(\\frac{c\\Delta t}{\\Delta x}\\right)\\left(u_j^n-u_{j-1}^n\\right)$$\n",
    "\n",
    "For future reference, note that we can write the general form of the forward-in-time scheme as:\n",
    "$$\\frac{u^{n+1}-u^n}{\\Delta t}=f(u^n)$$\n",
    "\n",
    "Here, $f(u^n)$ represents how the term $-c\\frac{\\partial u}{\\partial x}$ is discretized. This form makes clear that the particulars of the time scheme are independent of the particulars of the spatial discretization scheme. (You can mix and match whichever time scheme you like with whatever spatial scheme you like.)\n",
    "\n",
    "#### Python function implementing forward-in-time, upstream scheme:"
   ]
  },
  {
   "cell_type": "code",
<<<<<<< HEAD
<<<<<<< HEAD
   "execution_count": 1,
   "id": "broken-chocolate",
=======
   "execution_count": 9,
   "id": "8472f4da-8688-48db-82fc-fd27e8346a5f",
>>>>>>> 6752a350d82eee92574c9360385ada9ba788aae9
=======
   "execution_count": null,
   "id": "8472f4da-8688-48db-82fc-fd27e8346a5f",
>>>>>>> parent of 42415c3... Made no changes
   "metadata": {},
   "outputs": [],
   "source": [
    "def advect_FTUS(u0, cfl, ntimes=100, npts=101):\n",
    "    u_new = np.zeros(npts)\n",
    "    u_t0 = u0.copy()\n",
    "    \n",
    "    for k in range(ntimes):\n",
    "        u_new[1:npts] = u_t0[1:npts] - cfl*(u_t0[1:npts] - u_t0[0:npts-1])\n",
    "        u_new[0] = u_new[-1]\n",
    "        u_t0=u_new.copy()\n",
    "    return u_new"
   ]
  },
  {
   "cell_type": "markdown",
   "id": "3b8d352b-54b4-45cb-bc9f-5921d80b594b",
   "metadata": {},
   "source": [
    "## Error analysis of the forward-in-time, upstream scheme"
   ]
  },
  {
   "cell_type": "markdown",
   "id": "183d7567-dfad-4890-8d72-a746febc164f",
   "metadata": {},
   "source": [
    "There are many ways we can quantify how accurate a numerical scheme is. In this exercise, we will use two methods: the maximum absolute error, and the mean absolute error. The code below implements these error measures."
   ]
  },
  {
   "cell_type": "code",
<<<<<<< HEAD
<<<<<<< HEAD
   "execution_count": 2,
   "id": "desperate-inspector",
=======
   "execution_count": 10,
   "id": "5206bee8-773d-4297-862c-866352c26e0f",
>>>>>>> 6752a350d82eee92574c9360385ada9ba788aae9
=======
   "execution_count": null,
   "id": "5206bee8-773d-4297-862c-866352c26e0f",
>>>>>>> parent of 42415c3... Made no changes
   "metadata": {},
   "outputs": [],
   "source": [
    "def max_err(solution, exact_solution):\n",
    "    error = np.abs(solution - exact_solution)\n",
    "    return np.max(error)"
   ]
  },
  {
   "cell_type": "code",
<<<<<<< HEAD
<<<<<<< HEAD
   "execution_count": 3,
   "id": "verified-momentum",
=======
   "execution_count": 11,
   "id": "6882a1ee-7cb6-41c4-8501-10192fa09076",
>>>>>>> 6752a350d82eee92574c9360385ada9ba788aae9
=======
   "execution_count": null,
   "id": "6882a1ee-7cb6-41c4-8501-10192fa09076",
>>>>>>> parent of 42415c3... Made no changes
   "metadata": {},
   "outputs": [],
   "source": [
    "def mean_err(solution, exact_solution):\n",
    "    error = np.abs(solution - exact_solution)\n",
    "    return np.mean(error)"
   ]
  },
  {
   "cell_type": "markdown",
   "id": "c711cff9-0d17-4339-a075-1aa7af0f9a9f",
   "metadata": {},
   "source": [
    "Here is a particular grid and timestep setup, which you should use repeatedly later in the assignment:"
   ]
  },
  {
   "cell_type": "code",
<<<<<<< HEAD
<<<<<<< HEAD
   "execution_count": 4,
   "id": "expected-satin",
=======
   "execution_count": 12,
   "id": "719d5708-f4a6-42ad-968d-6779e76c4a0e",
>>>>>>> 6752a350d82eee92574c9360385ada9ba788aae9
   "metadata": {},
   "outputs": [
    {
     "name": "stdout",
     "output_type": "stream",
     "text": [
      "c, dt, dx, CFL =  1 0.01 0.011111111111111112 0.9\n",
      "ntimes =  100\n"
     ]
    }
   ],
=======
   "execution_count": null,
   "id": "719d5708-f4a6-42ad-968d-6779e76c4a0e",
   "metadata": {},
   "outputs": [],
>>>>>>> parent of 42415c3... Made no changes
   "source": [
    "c = 1\n",
    "x_left = 0.\n",
    "x_right = 1.\n",
    "num_points = 91\n",
    "dx = (x_right-x_left)/(num_points-1)\n",
    "dt = .01\n",
    "cfl = c*dt/dx\n",
    "print('c, dt, dx, CFL = ', c, dt, dx, cfl)\n",
    "ntimes = int((x_right-x_left)/(c*dt))\n",
    "print('ntimes = ', ntimes)"
   ]
  },
  {
   "cell_type": "markdown",
   "id": "15fb1228-bd1e-4b31-9888-af2b71af1367",
   "metadata": {},
   "source": [
    "And the solution after the wave travels all the way around to its starting position..."
   ]
  },
  {
   "cell_type": "code",
<<<<<<< HEAD
<<<<<<< HEAD
   "execution_count": 5,
   "id": "alone-exhibit",
   "metadata": {},
   "outputs": [
    {
     "ename": "NameError",
     "evalue": "name 'init2_u' is not defined",
     "output_type": "error",
     "traceback": [
      "\u001b[0;31m---------------------------------------------------------------------------\u001b[0m",
      "\u001b[0;31mNameError\u001b[0m                                 Traceback (most recent call last)",
      "\u001b[0;32m/tmp/ipykernel_124059/360512870.py\u001b[0m in \u001b[0;36m<module>\u001b[0;34m\u001b[0m\n\u001b[0;32m----> 1\u001b[0;31m \u001b[0mx\u001b[0m\u001b[0;34m,\u001b[0m \u001b[0mui0\u001b[0m \u001b[0;34m=\u001b[0m \u001b[0minit2_u\u001b[0m\u001b[0;34m(\u001b[0m\u001b[0mnum_points\u001b[0m\u001b[0;34m,\u001b[0m \u001b[0mxl\u001b[0m\u001b[0;34m=\u001b[0m\u001b[0mx_left\u001b[0m\u001b[0;34m,\u001b[0m \u001b[0mxr\u001b[0m\u001b[0;34m=\u001b[0m\u001b[0mx_right\u001b[0m\u001b[0;34m,\u001b[0m \u001b[0mt0\u001b[0m\u001b[0;34m=\u001b[0m\u001b[0;36m0.\u001b[0m\u001b[0;34m)\u001b[0m\u001b[0;34m\u001b[0m\u001b[0;34m\u001b[0m\u001b[0m\n\u001b[0m\u001b[1;32m      2\u001b[0m \u001b[0mout\u001b[0m \u001b[0;34m=\u001b[0m \u001b[0madvect_FTUS\u001b[0m\u001b[0;34m(\u001b[0m\u001b[0mui0\u001b[0m\u001b[0;34m,\u001b[0m \u001b[0mcfl\u001b[0m\u001b[0;34m,\u001b[0m \u001b[0mntimes\u001b[0m\u001b[0;34m,\u001b[0m \u001b[0mnpts\u001b[0m\u001b[0;34m=\u001b[0m\u001b[0mnum_points\u001b[0m\u001b[0;34m)\u001b[0m\u001b[0;34m\u001b[0m\u001b[0;34m\u001b[0m\u001b[0m\n\u001b[1;32m      3\u001b[0m \u001b[0;34m\u001b[0m\u001b[0m\n\u001b[1;32m      4\u001b[0m \u001b[0mplt\u001b[0m\u001b[0;34m.\u001b[0m\u001b[0mplot\u001b[0m\u001b[0;34m(\u001b[0m\u001b[0mx\u001b[0m\u001b[0;34m,\u001b[0m \u001b[0mui0\u001b[0m\u001b[0;34m,\u001b[0m \u001b[0mx\u001b[0m\u001b[0;34m,\u001b[0m \u001b[0mout\u001b[0m\u001b[0;34m)\u001b[0m\u001b[0;34m\u001b[0m\u001b[0;34m\u001b[0m\u001b[0m\n",
      "\u001b[0;31mNameError\u001b[0m: name 'init2_u' is not defined"
     ]
    }
   ],
=======
   "execution_count": null,
   "id": "fbd5e297-69a5-495a-b93b-c5c70b5ed936",
   "metadata": {},
   "outputs": [],
>>>>>>> parent of 42415c3... Made no changes
   "source": [
    "x, ui0 = init2_u(num_points, xl=x_left, xr=x_right, t0=0.)\n",
=======
   "execution_count": 13,
   "id": "fbd5e297-69a5-495a-b93b-c5c70b5ed936",
   "metadata": {},
   "outputs": [
    {
     "data": {
      "text/plain": [
       "[<matplotlib.lines.Line2D at 0x7f68b8821d90>,\n",
       " <matplotlib.lines.Line2D at 0x7f68b8821d30>]"
      ]
     },
     "execution_count": 13,
     "metadata": {},
     "output_type": "execute_result"
    },
    {
     "data": {
      "image/png": "iVBORw0KGgoAAAANSUhEUgAAAXQAAAD4CAYAAAD8Zh1EAAAAOXRFWHRTb2Z0d2FyZQBNYXRwbG90bGliIHZlcnNpb24zLjUuMSwgaHR0cHM6Ly9tYXRwbG90bGliLm9yZy/YYfK9AAAACXBIWXMAAAsTAAALEwEAmpwYAAAihElEQVR4nO3de3BcZ53m8e+vL7pYF9uR5PtNThw7thOH2Akh4ZIQEpLMUBlYdjZAkZoUTCoLYae2ZqdgmGWYHWp3ZpahapbhkslQwFALZIAEEqYMgYJJHDYEYhPH8SV2HCmx5askX3RzS31594/TLUtyS30knW5193k+VSq5u49OvyeWn37ze9/zvuacQ0REKl9krhsgIiLBUKCLiFQJBbqISJVQoIuIVAkFuohIlYjN1Ru3tra6NWvWzNXbi4hUpF27dvU459ryvTZngb5mzRp27tw5V28vIlKRzOyNyV5TyUVEpEoo0EVEqoQCXUSkSijQRUSqhAJdRKRKFAx0M/u6mZ02s72TvG5m9kUzO2xme8zsuuCbKSIihfjpoX8TuHOK1+8C1mW/HgC+OvtmiYjIdBUMdOfcDuDMFIfcA3zLeZ4HFpjZ0qAaKFJKzjm+v/MoQyOpuW6KyLQFUUNfDhwd87gr+9wlzOwBM9tpZju7u7sDeGuRYO073sef/WAPT+w+PtdNEZm2IALd8jyXd9cM59wjzrltzrltbW1571wVmVMdPYMAdGa/i1SSIAK9C1g55vEKQN0bqUid3V6Qd3Qr0KXyBBHoTwL3ZWe73Aicd86dCOC8IiXX2TMw7rtIJSm4OJeZfRe4BWg1sy7gs0AcwDn3MLAduBs4DAwB9xersSLFliu1HDkzRCqdIRbVrRpSOQoGunPuAwVed8DHA2uRyBxxztHRM0hTbYz+4RTHzl1gdUvDXDdLxDd1P0SyegdH6E+kePt6b8C+QwOjUmEU6CJZuXLLbRsWeY81MCoVRoEukpUL8K2rF9JcF9PURak4CnSRrI6eQeJRY8XCebS3NSrQpeIo0EWyOnsGWN3SQDRirG1tUKBLxVGgi2R19gzS3urNamlvbeDYuQskkuk5bpWIfwp0ESCdcbzeO8TaMYEO8HqveulSORToIsDxcxcYSWXG9dBBM12ksijQRbg4ZXFioGsuulQSBboIYwK9zQvyhtoYi5trNTAqFUWBLoIX6I21Mdoaa0efa9dMF6kwCnQRvNJKe2sDZheX929v1Vx0qSwKdBG8Oei5unnO2tYGzgyOcG5oZI5aJTI9CnQJveFUmq6zFy4J9NGZLuqlS4VQoEvoHekdwjlY2zYh0NsU6FJZFOgSeh0TpizmrFw4j2jEFOhSMRToEnq5wF4zIdBrYhFWLKzXXHSpGAp0Cb1TfQmaamM018UveW3p/Dq6+4bnoFUi06dAl9Dru5Ciuf7SMAdorovTl0iWuEUiM6NAl9DrSyRpqsu/vW5zfZy+Cwp0qQwKdAm9vgvJAj30VIlbJDIzCnQJvb5EKm/9HKC5PsbAcIp0xpW4VSLTp0CX0OtPJGmun6Tkkg36AfXSpQIo0CX0+i4kp+ihe89rYFQqgQJdQi2TcfQPp2ieZFA0N1h6XgOjUgEU6BJqAyMpnGPKQVFQD10qgwJdQi03JXGqQVHvONXQpfwp0CXUckFdaFBUPXSpBAp0CbVcUBccFFUNXSqAAl1CrT87HbFpkkBvrI2NO06knCnQJdRGa+iTlFyiEaOpNqaSi1QEX4FuZnea2UEzO2xmn8rz+nwz+7GZvWRm+8zs/uCbKhK8QiUXyK3noh66lL+CgW5mUeDLwF3ARuADZrZxwmEfB/Y757YAtwBfMLOagNsqErhcUE+2OFfuNfXQpRL46aHfABx2znU450aAR4F7JhzjgCbztkxvBM4A6tJI2etLJGmoiRKLTv5PQSsuSqXwE+jLgaNjHndlnxvrS8BVwHHgZeBPnHOZiScyswfMbKeZ7ezu7p5hk0WCM9VKizlacVEqhZ9AtzzPTVx67t3AbmAZcC3wJTNrvuSHnHvEObfNObetra1tmk0VCV5/IjVluQWguS5Gv0ouUgH8BHoXsHLM4xV4PfGx7gced57DQCewIZgmihRPX2LyhblyVHKRSuEn0F8A1plZe3ag817gyQnHHAFuAzCzxcB6oCPIhooUQ1/CT8klRv9wiozWRJcyVzDQnXMp4CHgKeAA8D3n3D4ze9DMHswe9jngJjN7GfgF8EnnXE+xGi0SlL4Lk6+0mNNcH8c5byEvkXI29W9ylnNuO7B9wnMPj/nzceCOYJsmUnz+eugXb/8vVJ4RmUu6U1RCyzlH/xTbz+VoxUWpFAp0Ca2hkTTpjCs4yyW3zotmuki5U6BLaI3e9u+35KK56FLmFOgSWqNrofsuuaiHLuVNgS6hdbGHXujGIm1yIZVBgS6hVWj7uZxcjV2DolLuFOgSWrked6FB0Vg0wryaqHroUvYU6BJauV2ICg2KgteL1ywXKXcKdAmtXMmlUA8dvDq7Si5S7hToElp9iRR18Qi1sWjBY70ldNVDl/KmQJfQms6t/M31CnQpfwp0CS0/67jkNNep5CLlT4EuodV3ofDmFjlNKrlIBVCgS2j1+9jcIqe5PkZ/IoVzWhNdypcCXUKrL5GaRsklTjrjGBpJF7lVIjOnQJfQ8gZF/ZVccsGvsouUMwW6hJJzbpqDorlNLjQwKuVLgS6hlEhmSKYLr4WeM7qei3roUsYU6BJKoystTmMeOmgJXSlvCnQJpX6fm1vk5Grt/drkQsqYAl1C6fzo5hYaFJXqoUCXUPK7/VzOxTXRFehSvhToEkp+N7fIqY1FqYtHtK+olDUFuoRSLpj9llwge/u/euhSxhToEkqjPXSfJRfILtClGrqUMQW6hFJfIklNNEJtzP8/geb6uG4skrKmQJdQ6k+kaK6PYWa+f0bb0Em5U6BLKE1nc4scb5ML9dClfCnQJZT6Ev7XQs9pqotpUFTKmgJdQqnvgv+FuXJy+4pqTXQpV74C3czuNLODZnbYzD41yTG3mNluM9tnZs8E20yRYPVNY3OLnOb6GMm0I5HMFKlVIrNT8P85zSwKfBm4HegCXjCzJ51z+8ccswD4CnCnc+6ImS0qUntFAjGd7edyRpfQTSSpr4kWo1kis+Knh34DcNg51+GcGwEeBe6ZcMwHgcedc0cAnHOng22mSLD6p7EWek7T6AJdqqNLefIT6MuBo2Med2WfG+tKYKGZPW1mu8zsvnwnMrMHzGynme3s7u6eWYtFZmkklWE4laGpdqY9dM10kfLkJ9DzTdSdOCoUA7YCvwe8G/iMmV15yQ8594hzbptzbltbW9u0GysShFwPeyazXLyfV6BLefLzG90FrBzzeAVwPM8xPc65QWDQzHYAW4BDgbRSJEC5QG6a5qBo7niVXKRc+emhvwCsM7N2M6sB7gWenHDME8DbzCxmZvOANwMHgm2qSDAuBrp66FJdCv5GO+dSZvYQ8BQQBb7unNtnZg9mX3/YOXfAzH4K7AEywNecc3uL2XCRmbpYctGgqFQXX10U59x2YPuE5x6e8PjzwOeDa5pIcfTNsIfeUBPDTD10KV+6U1RCp3+aG0TnRCJGY21MgS5lS4EuoTPTGjpcvP1fpBwp0CV0coHeOINAb6pTD13KlwJdQqc/kaQ+HiUezfPrn07C//sinHw57896ga4eupQnBbqETv9US+fu+ib8/DPw8Nvgh/8ZzneNe7mpLq4eupQtBbqETv9wMn+gDw/AM/8bVt4IN30C9j4G/7gVdv3L6CEquUg5U6BL6Hg99DwzXH7zVRg8DXd8zvv6xE5Ycg384q8hfXEgVSUXKVcKdAmdvLsVDZ3xaufrfw9W3uA9t2AV3PQQDPXA688CF0su2uRCypECXUKnP9/mFs9+AYb74bbPjH9+3R0Qb4B9PwS8Hnoqo00upDwp0CV0LhkUPd8Fv/1n2PIBWHTV+IPj9bD+LjjwJKSTWqBLypoCXUKnPzFhUPS3j4DLwC15d1eEze+DC2eh8xmasz+nNdGlHCnQJVSS6QyJZGb8oOhrv4RVN8LC1fl/6PLboLYZ9v5QC3RJWVOgS6hcctv/YI93E9Had0z+Q/E6WH83vPJjmuNu3HlEyokCXULlkqVzO3d439tvmfoHN78PEudZ3PPr7HkU6FJ+FOgSKpf00Duf8copy9409Q+uvRXq5tPy+r9lz6OSi5QfBbqESt/E/UQ7noHVN0O0wEJdsRrY8B7qX/spNSTVQ5eypECXUMkFcXNdHM4dgbOdU9fPx1p/JzYywOZIp3roUpYU6BIq40ouHc94T7b7DPTlWwG4Pv66pi1KWVKgS6iMGxTtfAYaFl16M9FkmpdB4xKui3ao5CJlSYEuoTLaQ6+Nej30te8AM/8nWL6VjbymkouUJQW6hEp/IkldPEK896C3sqLfckvO8jexMnOM9NC5orRPZDYU6BIqo0vndmbr534HRHOydfQlgwcCbpnI7CnQJVRGF+bqeAYWtntL5E5Hdr766sQrRWidyOwo0CVU+hJJ5tdG4Y3noP3t0z9B/UJ6alZwRfJQ8I0TmSUFuoRKfyLF5bFuGD4PK7bN6Bynmjax0R3WJhdSdhToEir9iSQbec17UOh2/0mcXbCZJXaG4bPHA2yZyOwp0CVU+hMp1qVehVgdtG2Y0TkGWrcAkHjjhSCbJjJrCnQJlb5EklXDB2HJ1RDNs1G0D6m2TaRchEzXroBbJzI7CnQJjWQ6w0gyxdKhQzMutwDMa2zikFtJ7OSLAbZOZPYU6BIa/YkU7XaCmvTQrAK9qS7O7sxa6rv3gAZGpYwo0CU0+hNJrrEO78GsAj3GHnc58ZHzcKYjoNaJzJ6vQDezO83soJkdNrNJdtIFM7vezNJm9v7gmigSjP5EimsiHaSi9dB65YzP01QXZ09mrffguMouUj4KBrqZRYEvA3cBG4EPmNnGSY77O+CpoBspEoS+RJLNkU6GLtsIkeiMz9NUF+OgW0kqUqNAl7Lip4d+A3DYOdfhnBsBHgXuyXPcJ4DHgNMBtk8kMANDCTbZG4ws3jKr8zTWxMhYlN76djitNV2kfPgJ9OXA0TGPu7LPjTKz5cB7gYenOpGZPWBmO81sZ3d393TbKjI7Pa8yz4Zh6czr5wCRiNFYE+NE7Vo4vT+gxonMnp9Az7dY9MSh/X8APumcS091IufcI865bc65bW1tbT6bKBKM+p6XAIit3DrrczXVxTgaWwP9J2DozKzPJxKEAjvjAl6PfOWYxyuAifc8bwMeNW+jgFbgbjNLOed+FEQjRYLQfGYvA66OhmXrZ32upro4r0VWew9O74c1b531OUVmy08P/QVgnZm1m1kNcC/w5NgDnHPtzrk1zrk1wA+AjynMpdy09u1nP+3EY376MVNrqotxyGWX3j2lsouUh4KB7pxLAQ/hzV45AHzPObfPzB40sweL3UCRQKSTLBp6lUPRdYGcrqkuxpFkE9QvhNP7AjmnyGz56qo457YD2yc8l3cA1Dn3R7NvlkjATh8g7kborA0q0ON09AzCok3qoUvZ0J2iEg4ndgNwvH729XPweuj9iRQs3uhNXdQSAFIGFOgSDif2MGT1DDZMc8u5STTVxelPJHGLNsJIP5w7Esh5RWZDgS7hcOIlDkfaaayvCeR0TXUxkmnHSEt2TXXNR5cyoECX6pdJw6m97HdraKqd2RroEzXXecNPfc3ZmvwpDYzK3FOgS/XrPQzJIXan1tBUN/spi+CVXAD6MnWwYJV66FIWFOhS/U7sAWB3ctVoEM9W7oOhP5HSTBcpGwp0qX4nduOitRx2ywLvofcnkt5Ml95XITUSyLlFZkqBLtXv5B5GWjaQIhZgoI/toW+ETAp6DgVybpGZUqBLdXMOTuxh8DJvCf/gSy5JWLzJe1J1dJljCnSpbueOQOIc5+Z7gd4ceMklBS1XQCSumS4y5xToUt1OegOipxu8O0Sb6wPqodfGMIPzF5IQjXtb2qmHLnNMgS7V7cRLYFHeiLUD0NIYzI1FkYhx2bwaegezA6GLN6mHLnNOgS7V7cQeaL2S0xe8fVouawgm0MH7cOgdGPYeLN4EfcfgwtnAzi8yXQp0qW4nXoKl19A7OEJTXYza2Mw3h56opaGW3oExPXTQfHSZUwp0qV4Dp2HgJCzdQs/AMG2NtYGevrWpdnzJBVRHlzmlQJfqlb1DlCXX0DswElj9PKeloYaeXMmlaam32cWpvYG+h8h0KNClemXXQGfJ1fQMDNPSEHAPvbGG/kSKRDINZrB4swZGZU4p0KV6nXgJFq6B+gX0Dhahh54t4ZwZN9NlP2Qygb6PiF8KdKlex1+EZdeRSmc4OzQyGsBBacnOmBkdGF20EZKDcO71QN9HxC8FulSn/lNw/igs38rZoSTOeSWSIOU+IHoGc1MXN3vfNdNF5ogCXarT8d9535dvpTcbuMWoocPYHvoGwFRHlzmjQJfqdGwXWNSbg54N3KB76K3ZHvrozUU1DXDZWs10kTmjQJfqdGyXV9OuaRidWhh0DX1eTZS6eOTiXHTQEgAypxToUn2c8wJ9xVYAeorUQzczWhpq6ekfvvjk4k1wpgNGBgN9LxE/FOhSfc50QOI8LPcCvXdgmFjEaA5oLfSxWhtr6JnYQ8dB9yuBv5dIIQp0qT7HdnnfRwN9hMsaaohELPC3ammsvVhDhzFruqjsIqWnQJfq07UT4g3QtgGA3sHhwOvnOS0NNRdnuQAsWOO9twJd5oACXarPsV2w7FqIeCsr9gyMBF4/z2lprKV3cBjnnPdEJOJtGq1AlzmgQJfqkhrxdilaft3oU72Dw6NTDIPW2lhDMu3oS6QuPrloozd1MRfyIiWiQJfqcmovpEdG6+fg1dBbAtzYYqxL5qKDd8fohbPQf7Io7ykyGV+BbmZ3mtlBMztsZp/K8/qHzGxP9us5M9sSfFNFfJgwIDo0kmJoJF28Gnq2lNMzto6+JLsEQHY/U5FSKRjoZhYFvgzcBWwEPmBmGycc1gm8wzl3DfA54JGgGyriy7HfQUMbzF8JXLwtP+iVFnNyywmM66EvuQYscvHDRaRE/PTQbwAOO+c6nHMjwKPAPWMPcM4955zLbab4PLAi2GaK+HRsl9c7N2+KYu4u0WINiubOO24uem0jtF2lQJeS8xPoy4GjYx53ZZ+bzEeAn+R7wcweMLOdZrazu7vbfytF/LhwDnoOXVI/h+AX5spZOLqE7vD4F1Zs9QJdA6NSQn4CPd/dGHl/S83sVrxA/2S+151zjzjntjnntrW1tflvpYgfbzwHOFh98+hToystFqmHHo9GWDAvPn4uOngfKhfOenetipSIn0DvAlaOebwCOD7xIDO7BvgacI9zrjeY5olMQ+cOiNXDim2jT11cx6U4PfTcuXMfHKNy/5dw7HdFe1+RifwE+gvAOjNrN7Ma4F7gybEHmNkq4HHgw865Q8E3U8SHzh2w6kaIXQzv3oERGmtj1MWjRXtbb7PoCT30tqsgPk91dCmpgoHunEsBDwFPAQeA7znn9pnZg2b2YPawvwRagK+Y2W4z21m0FovkM9ANp/dB+9vHPd0zMFy0cktOa2Pt6ODrqGgMll4Lx/RPQUon5ucg59x2YPuE5x4e8+ePAh8Ntmki0/D6s9739neMe7p3cLhoNxXltDTWXFpDB29g9DePeHevxorbBhHQnaJSLTp3QG0zLB1/T1vvQPCbQ0/U0lDL+QtJRlKZ8S8s3wrpYe1gJCWjQJfq0LnDm90SHf8/ncVcmCsnV9I5O5Rnpguoji4lo0CXyne+C868dkn9PJNxnBkcLtoc9JzRm4sm1tHnr4SGRZrpIiWjQJfK15mrn48P9HMXkmRc8e4Szbm4QNeEHrqZ10vXwKiUiAJdKl/nDpjX4i1bO0axNoeeKHf+S3ro4A2M9hzytsQTKTIFulQ257xAX/M2b3OJMS4Gemlq6HlnuuTq6MdfLGobRECBLpXuTAf0dV1SboGLAVvMu0QBmmpj1EQj9Ey8WxRgWXajjS6VXaT4FOhS2Tr+3fueN9CzPfQiz0M3s8nnotcvgNb12XVmRIpLgS6Vbd+PoOUK72uC3sERIgYL5hX/ph4v0PP00AGueBe8/isYGSp6OyTcFOhSufpPekG5+f2j65+P1TMwwmUNNUQj+RYMDVZLQy29g3l66ADrbvduMMrdzSpSJAp0qVz7fgg42Py+vC+fPH+h6PXznEVNtZw4n8j/4uqbIN4Ah54qSVskvBToUrn2PgaLr4a29XlfPnCinw1LmkrSlPVLmujuH84/dTFWC2tvgVd/rg0vpKgU6FKZzr4OXS/A1f8h78u9A8Oc7Euwadn8kjRn47JmAPYd78t/wLrb4fwR6D5YkvZIOCnQpTLtfdz7vil/uSUXrJuyQVtsm5bOz77vJDcQrbvD+/7qz0rSHgknBbpUpr2Pw4obYOHqvC/nAn1jiQJ9/rw4KxbWT95Dn78cFm9WoEtRKdCl8nQfhFMvw+b85RbwesrLF9SXZMpizqZlzeyfLNDBK7sc+bWWAZCiUaBL5dn7GFgENv3BpIfsP95XsnJLzqZl8+nsGWRgOJX/gHV3QCYFHU+XtF0SHgp0qSzpJOz+Lqx5KzQtyXvI4HCKzt7Bkg2I5uQ+QA6cmKSXvuIGqJ2vsosUjQJdKsvu73izRd7y0KSHHDjRh3OlGxDNyX2A7Ds2SUklGoMr3ulNX8ykS9gyCQsFulSO1Ag8+/feCoa5WSN5jM5wWV7aQF/cXEtLQ83kA6MAm94LA6fg4PbJjxGZIQW6VI6XvgPnjsAtf573Vv+cfcfPc1lDDUua60rYOG+Rro3LmqcO9A2/DwtWw3P/WLqGSWgo0KUypEZgx9/D8m3eYldT2JcdELUpQr9YNi2bz6un+y/dMDonEoW3fByO/gaO/ra0jZOqp0CXyrD723D+aMHe+Ugqw6FT/SWbfz7RpmXNJNOOQ6f6Jz/o2g9B3QL10iVwCnQpf6lhePYLsOJ6uOK2KQ89fHqAZNqVfIZLTm4gdv9kM10Aahvh+o/AgR97G3SIBESBLuXvqU97vfNb/2LK3jlcvPW+1DNccta0NNBQE536BiOAGx6AaBx+/ZXSNExCQYEu5e3Fb8MLX4Ob/gtcfmvBw/cd72NeTZT2loYSNO5SkYhx1dLmydd0yWlaAtf8Ibz4f2HoTGkaJ1VPgS7l6/hu+Lf/6m0vd9tnff3I/uN9XLW0mUgJNrWYTG4JgEymwFK5b3kIUgn46ae0rK4EQoEu5WnoDPzrh6GhDd7/De+mnALSGcf+E6W/5X+iTcvmMziSprN3cOoDF10Ft34a9vwrPK/Si8yeAl3Kz+lX4Bt3w8BJ+E/fgoZWXz/29V91MjCc4uYr/B1fLG9eexmxiPHFX7xa+OC3/Te46j3ws/8Or/2y+I2TqqZAl/Ky+7vwz7fCYDd88HveXaE+vHqqn8//7CC3b1zMHRsXF7mRU1vd0sAn3rmOJ3Yf5ycvn5j64EgE/uBhaNsA379fs15kVhToUh5OH4DH/hh+9CAsuw4e/JWvQVCAVDrDn37/JRpqovyv9149JzcUTfSxWy/n6uXz+Ysf7c2/Ld1YtY1w73e8GTzfuBte/oFq6jIjvgLdzO40s4NmdtjMPpXndTOzL2Zf32Nm1wXfVKk6iT5vo+dv/j585UbY/wS8/c/gviegeanv03z16dfY03We//neq2lrKs2m0IXEoxG+8IdbGBhO8enHX8YVCujL2r3rblwEj30E/uU93oecyDQUHGkysyjwZeB2oAt4wcyedM7tH3PYXcC67Nebga9mv0uYpUZgZACG+70FqfqOe1+n90PXTuh+BXAwfxW866/gTfdBQ4uvUyeSaV4+dp5db5zl//ziVd6zZRl3X+3/Q6AUrlzcxJ/efiV/85NX+B8/3s+tGxZx7YoFzJ8Xz/8DS7fAH/877Pom/OKvvQ+5tqtgzc2w+mZovdIbJJ7X4muQWMLHCvUczOwtwF85596dffznAM65vxlzzD8BTzvnvpt9fBC4xTk3aQFx27ZtbufOndNu8J6nH6N5h78pbOLPVAUKY+Lvh8OyzxsOcw4jQzT7FSNJzKWIk6SG/Bs99NHIK7H1HIiuZ1/0Kl6KbiZj0Snb6IBMxpF2jnTGcfJ8glR2WuDGpc18+6NvZmFD6XYn8iudcXzs27v42f5To1WUpfPriEcjxCJGJGJ5//s3Z/q4K/kztqReZnP6APUkRl/LYAwxj6TFSBInRYyMRXJ/I9m/ofxUyCkPJy//j9z4oZnlmJntcs5ty/ean4/55cDRMY+7uLT3ne+Y5cC4QDezB4AHAFatWuXjrS9V0zCfM/PaZ/SzMrmpQmBi5LvRmLdskHhhkrYYaYuRshgpizMcmcew1ZOIzKMvtpBzsTbOxVoZjDSPu+Pzcp9tjJgRjRhRM5bMr+NNqxZy7coFZVNmyScaMf7pw9voTyTZ03WeF4+cpaNnkHTG+2DKTNqhauR3/BG/AyIuxcrhw1yWPEVT+hxN6bPMywwQdUlizvsANZfJRvkki4KR78NZ5kqsqTgD934CPd+/9Im/GX6OwTn3CPAIeD10H+99iQ3Xvwuun3q1PZFy01QX5+YrWmcxpVIVTCnMz6BoF7ByzOMVwPEZHCMiIkXkJ9BfANaZWbuZ1QD3Ak9OOOZJ4L7sbJcbgfNT1c9FRCR4BUsuzrmUmT0EPAVEga875/aZ2YPZ1x8GtgN3A4eBIeD+4jVZRETy8TX3yTm3HS+0xz738Jg/O+DjwTZNRESmQ3eKiohUCQW6iEiVUKCLiFQJBbqISJUoeOt/0d7YrBt4Y4Y/3gr0BNicSqBrDgddczjM5ppXO+fa8r0wZ4E+G2a2c7K1DKqVrjkcdM3hUKxrVslFRKRKKNBFRKpEpQb6I3PdgDmgaw4HXXM4FOWaK7KGLiIil6rUHrqIiEygQBcRqRJlHehh3JzaxzV/KHute8zsOTPbMhftDFKhax5z3PVmljaz95eyfcXg55rN7BYz221m+8zsmVK3MWg+frfnm9mPzeyl7DVX9KqtZvZ1MzttZnsneT34/HLOleUX3lK9rwFrgRrgJWDjhGPuBn6Ct2PSjcBv5rrdJbjmm4CF2T/fFYZrHnPcL/FW/Xz/XLe7BH/PC4D9wKrs40Vz3e4SXPOngb/L/rkNOAPUzHXbZ3HNbweuA/ZO8nrg+VXOPfQbgMPOuQ7n3AjwKHDPhGPuAb7lPM8DC8ysvLZ+n56C1+yce845dzb78Hm83aEqmZ+/Z4BPAI8Bp0vZuCLxc80fBB53zh0BcM5V+nX7uWYHNJmZAY14gZ5/p/EK4JzbgXcNkwk8v8o50CfbeHq6x1SS6V7PR/A+4StZwWs2s+XAe4GHqQ5+/p6vBBaa2dNmtsvM7itZ64rDzzV/CbgKb/vKl4E/cc5Nvut15Qs8v3xtcDFHAtucuoL4vh4zuxUv0N9a1BYVn59r/gfgk865tNd5q3h+rjkGbAVuA+qBX5vZ8865Q8VuXJH4ueZ3A7uBdwKXAz83s2edc31FbttcCTy/yjnQw7g5ta/rMbNrgK8BdznnekvUtmLxc83bgEezYd4K3G1mKefcj0rSwuD5/d3ucc4NAoNmtgPYAlRqoPu55vuBv3VegfmwmXUCG4DflqaJJRd4fpVzySWMm1MXvGYzWwU8Dny4gntrYxW8Zudcu3NujXNuDfAD4GMVHObg73f7CeBtZhYzs3nAm4EDJW5nkPxc8xG8/yPBzBYD64GOkraytALPr7LtobsQbk7t85r/EmgBvpLtsaZcBa9U5/Oaq4qfa3bOHTCznwJ7gAzwNedc3ulvlcDn3/PngG+a2ct45YhPOucqdlldM/sucAvQamZdwGeBOBQvv3Trv4hIlSjnkouIiEyDAl1EpEoo0EVEqoQCXUSkSijQRUSqhAJdRKRKKNBFRKrE/wcC4shcR4kAdgAAAABJRU5ErkJggg==\n",
      "text/plain": [
       "<Figure size 432x288 with 1 Axes>"
      ]
     },
     "metadata": {
      "needs_background": "light"
     },
     "output_type": "display_data"
    }
   ],
   "source": [
    "x, ui0 = init_2u(0,num_points, 0, 1)\n",
>>>>>>> 6752a350d82eee92574c9360385ada9ba788aae9
    "out = advect_FTUS(ui0, cfl, ntimes, npts=num_points)\n",
    "\n",
    "plt.plot(x, ui0, x, out)"
   ]
  },
  {
   "cell_type": "markdown",
   "id": "422f5f05-d63a-4b1e-8b4a-2323547488f3",
   "metadata": {},
   "source": [
    "The error in this case:"
   ]
  },
  {
   "cell_type": "code",
<<<<<<< HEAD
   "execution_count": null,
<<<<<<< HEAD
   "id": "original-cotton",
=======
   "execution_count": 14,
   "id": "6f2dba8a-90bb-4224-ab5e-5cb57a73aee6",
>>>>>>> 6752a350d82eee92574c9360385ada9ba788aae9
=======
   "id": "6f2dba8a-90bb-4224-ab5e-5cb57a73aee6",
>>>>>>> parent of 42415c3... Made no changes
   "metadata": {},
   "outputs": [
    {
     "name": "stdout",
     "output_type": "stream",
     "text": [
      "Max: 0.4499556522038308   Mean: 0.03152093220808693\n"
     ]
    }
   ],
   "source": [
    "err1 = max_err(ui0, out)\n",
    "err2 = mean_err(ui0, out)\n",
    "print(f'Max: {err1}   Mean: {err2}')"
   ]
  },
  {
   "cell_type": "markdown",
   "id": "71a49e79-9d3e-4227-a1e6-b010a5bce643",
   "metadata": {},
   "source": [
    "However let's explore how the error varies as dx and dt vary. For all parts of this assignment, use the settings given below. The number of points in the grid will vary from 11 to 501 as defined in `points_list`, and the timestep will vary from .001 to .05 (inclusive) by .001.\n",
    "\n",
    "To start with, here is how the CFL number varies with dx and dt. The plotted values are capped at 1 to emphasize the variations when the CFL number indicates stability."
   ]
  },
  {
   "cell_type": "code",
<<<<<<< HEAD
   "execution_count": null,
<<<<<<< HEAD
   "id": "accurate-escape",
=======
   "execution_count": 15,
   "id": "807c44dd-4458-4f55-853a-fe38a7a7743b",
>>>>>>> 6752a350d82eee92574c9360385ada9ba788aae9
=======
   "id": "807c44dd-4458-4f55-853a-fe38a7a7743b",
>>>>>>> parent of 42415c3... Made no changes
   "metadata": {},
   "outputs": [
    {
     "data": {
      "image/png": "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\n",
      "text/plain": [
       "<Figure size 432x288 with 2 Axes>"
      ]
     },
     "metadata": {
      "needs_background": "light"
     },
     "output_type": "display_data"
    }
   ],
   "source": [
    "points_list = list(range(11,51,2)) + list(range(51,101,4)) + list(range(101, 402, 10))\n",
    "dx_list = [(x_right-x_left)/(num_points-1) for num_points in points_list]\n",
    "dt_array = np.arange(.001, .05001, .001)\n",
    "cfl_array = np.zeros((len(dx_list), len(dt_array)))\n",
    "\n",
    "for i, dx in enumerate(dx_list):\n",
    "    for n, dt in enumerate(dt_array):\n",
    "        cfl = c*dt/dx\n",
    "        cfl_array[i,n] = min(cfl,1)\n",
    "\n",
    "plt.pcolormesh(dt_array, dx_list, cfl_array)\n",
    "plt.colorbar()\n",
    "plt.xlabel('dt')\n",
    "plt.ylabel('dx')\n",
    "plt.title('CFL Number (Capped at 1)')\n",
    "plt.show()"
   ]
  },
  {
   "cell_type": "markdown",
   "id": "240db2e6-0617-4c57-8344-e407d128bdfb",
   "metadata": {},
   "source": [
    "Your task is to create similar plots but showing how the maximum error varies with dx and dt, and how the mean absolute error varies with dx and dt. For plotting purposes, cap the max error at 1 and mean error at 0.25 to reveal the finer details when the scheme is stable. (Since the exact solution ranges between 0 and 1, any errors larger than that imply the numerical solution has \"blown up\".)"
   ]
  },
  {
   "cell_type": "code",
   "execution_count": null,
   "id": "a9306043-3972-46f9-9e41-055bbeca3cd3",
   "metadata": {},
   "outputs": [],
   "source": [
    "err1_array = np.zeros_like(cfl_array)\n",
    "err2_array = np.zeros_like(cfl_array)\n",
    "\n",
    "for i, dx in enumerate(dx_list):\n",
    "    num_points = points_list[i]\n",
    "    for n, dt in enumerate(dt_array):\n",
    "        cfl = c*dt/dx\n",
    "        # Code to compute the FTUS solution for this choice of dx, dt, num_points, etc.\n",
    "        # and then compute (and store) the two error statistics.\n",
    "       \n",
    "\n",
    "# Code to plot the maximum error as a function of dt and dx"
   ]
  },
  {
   "cell_type": "code",
   "execution_count": null,
   "id": "3d5b31d7-b53d-4c41-b5f5-dec892ce5e29",
   "metadata": {},
   "outputs": [],
   "source": [
    "# Code to plot the mean error as a function of dt and dx"
   ]
  },
  {
   "cell_type": "markdown",
   "id": "aae3aa12-dc10-4cb5-ac41-b84d84c5e8e1",
   "metadata": {},
   "source": [
    "Now analyze the following schemes in the same way:\n",
    "## Leapfrog for time, centered for space\n",
    "\n",
    "The Leapfrog time scheme is defined as $$\\frac{u^{n+1}-u^{n-1}}{2\\Delta t} = f(u^n)$$\n",
    "\n",
    "Note that this scheme requires two time levels ($n-1$ and $n$) to compute time level $n+1$, unlike the forward-in-time scheme. This means the initial condition must be specified at two times, $n=0$ (which corresponds to $t=0$) and $n=1$ (which corresponds to $t=\\Delta t$).\n",
    "\n",
    "The centered in space scheme is similar. At point $j$ and time level $n$, $$-c \\frac{\\partial u}{\\partial x} \\approx -c \\frac{u_{j+1}^n-u_{j-1}^n}{2 \\Delta x}$$\n",
    "\n",
    "### Python function implementing this scheme:"
   ]
  },
  {
   "cell_type": "code",
   "execution_count": null,
   "id": "793689d7-b56d-4c09-a0fb-a4773236abe8",
   "metadata": {},
   "outputs": [],
   "source": [
    "def advect_FTUS(u0, cfl, ntimes=100, npts=101):\n",
    "    u_new = np.zeros(npts)\n",
    "    u_t0 = u0.copy()\n",
    "    \n",
    "    for k in range(ntimes):\n",
    "        u_new[1:npts] = u_t0[1:npts] - cfl*(u_t0[1:npts] - u_t0[0:npts-1])\n",
    "        u_new[0] = u_new[-1]\n",
    "        u_t0=u_new.copy()\n",
    "    return u_new"
   ]
  },
  {
   "cell_type": "markdown",
   "id": "b5f8eb5a-ecbc-42c2-9612-de9ad4f4b930",
   "metadata": {
    "tags": []
   },
   "source": [
    "### Plot after one revolution with 91 x points, dt = 0.01"
   ]
  },
  {
   "cell_type": "code",
   "execution_count": null,
   "id": "82f58e55-02ef-4155-a527-4ae1ca0eec4c",
   "metadata": {
    "tags": []
   },
   "outputs": [],
   "source": [
    "x, ui0 = init2_u(num_points, xl=x_left, xr=x_right, t0=0.)\n",
    "out = advect_FTUS(ui0, cfl, ntimes, npts=num_points)\n",
    "\n",
    "plt.plot(x, ui0, x, out)"
   ]
  },
  {
   "cell_type": "markdown",
   "id": "e4867422-2cf5-4ce9-8849-4ace1a79b3fb",
   "metadata": {},
   "source": [
    "### Max Error and Mean Error Plots as functions of dt and dx"
   ]
  },
  {
   "cell_type": "code",
   "execution_count": null,
   "id": "bf90a3af-9a2b-43a6-a8d7-8f5204834c47",
   "metadata": {},
   "outputs": [],
   "source": []
  },
  {
   "cell_type": "markdown",
   "id": "62492251-85a8-4652-b4c0-9ffa48b46df3",
   "metadata": {},
   "source": [
    "## Adams-Bashforth for time, upstream for space\n",
    "\n",
    "The Adams-Bashforth scheme is second order in time, and defined as $$\\frac{u^{n+1}-u^{n}}{\\Delta t} = f(\\frac{3}{2}u^n-\\frac{1}{2}u^{n-1})$$\n",
    "\n",
    "As with the Leapfrog scheme, computing the solution at time level $n+1$ requires the results from the previous two time levels.\n",
    "\n",
    "### Python function implementing this scheme:"
   ]
  },
  {
   "cell_type": "code",
   "execution_count": null,
   "id": "b217f96c-3d0e-4f1f-ac1e-af5965d00e00",
   "metadata": {},
   "outputs": [],
   "source": []
  },
  {
   "cell_type": "markdown",
   "id": "144b1670-1416-48ea-afe0-e0651855fa62",
   "metadata": {
    "tags": []
   },
   "source": [
    "### Plot after one revolution with 91 x points, dt = 0.01"
   ]
  },
  {
   "cell_type": "code",
   "execution_count": null,
   "id": "099ddd77-d203-45d1-ac35-9b37af990cbf",
   "metadata": {
    "tags": []
   },
   "outputs": [],
   "source": []
  },
  {
   "cell_type": "markdown",
   "id": "c7ccbf2d-aa02-4703-bea0-edbeb5600b87",
   "metadata": {},
   "source": [
    "### Max Error and Mean Error Plots as functions of dt and dx"
   ]
  },
  {
   "cell_type": "code",
   "execution_count": null,
   "id": "a2eb8280-fab8-4f98-be16-dcb97309435d",
   "metadata": {},
   "outputs": [],
   "source": []
  },
  {
   "cell_type": "markdown",
   "id": "fc058687-39f8-4bd6-b50f-23720f8b6a23",
   "metadata": {},
   "source": [
    "## Matsuno for time, upstream for space\n",
    "\n",
    "The Matsuno scheme is a *predictor-corrector* scheme, meaning that you first form an intermediate solution (the predictor step, indicated by time level $*$), then improve that solution (the corrector step) to arrive at the actual solution for the next timestep. It is defined as:\n",
    "$$\\frac{u^{*}-u^n}{\\Delta t}=f(u^n)$$\n",
    "followed by\n",
    "$$\\frac{u^{n+1}-u^n}{\\Delta t}=f(u^{*})$$\n",
    "With this scheme, only a single initial condition is required, for $n = 0$ ($t = 0$).\n",
    "\n",
    "### Python function implementing this scheme:"
   ]
  },
  {
   "cell_type": "code",
   "execution_count": null,
   "id": "826efba2-d90f-4bfb-9c70-367213994de7",
   "metadata": {},
   "outputs": [],
   "source": []
  },
  {
   "cell_type": "markdown",
   "id": "76ff4d4d-ce52-45f3-bd85-8c2b2c896b8c",
   "metadata": {
    "tags": []
   },
   "source": [
    "### Plot after one revolution with 91 x points, dt = 0.01"
   ]
  },
  {
   "cell_type": "code",
   "execution_count": null,
   "id": "5bf36bc2-4adf-4002-a10f-5280cb0a9900",
   "metadata": {
    "tags": []
   },
   "outputs": [],
   "source": []
  },
  {
   "cell_type": "markdown",
   "id": "b25d21a8-38cb-46a4-bd61-b58401d01d02",
   "metadata": {},
   "source": [
    "### Max Error and Mean Error Plots as functions of dt and dx"
   ]
  },
  {
   "cell_type": "code",
   "execution_count": null,
   "id": "ec8e1263-97b4-4394-af64-dbfc2b7058ec",
   "metadata": {},
   "outputs": [],
   "source": []
  },
  {
   "cell_type": "markdown",
   "id": "28153077-bd2f-4a85-835b-843f3e63ea8d",
   "metadata": {},
   "source": [
    "## Forward-in-time, third-order upwind scheme\n",
    "\n",
    "The third-order upwind scheme is defined as:\n",
    "$$-c \\frac{\\partial u}{\\partial x} \\approx -c \\frac{3u_{j+1}^n+3u_{j}^n-7u_{j-1}^n+u_{j-2}^n}{8 \\Delta x}$$\n",
    "\n",
    "### Python function implementing this scheme:"
   ]
  },
  {
   "cell_type": "code",
   "execution_count": null,
   "id": "d1ad8bd6-2d22-4ca7-b353-1cfcd0f0fb14",
   "metadata": {},
   "outputs": [],
   "source": []
  },
  {
   "cell_type": "markdown",
   "id": "80b73c10-8361-449e-bce4-09900774065d",
   "metadata": {
    "tags": []
   },
   "source": [
    "### Plot after one revolution with 91 x points, dt = 0.01"
   ]
  },
  {
   "cell_type": "code",
   "execution_count": null,
   "id": "f7da2882-3484-4503-8cf2-8f4737ea61b0",
   "metadata": {
    "tags": []
   },
   "outputs": [],
   "source": []
  },
  {
   "cell_type": "markdown",
   "id": "d664edd7-15e8-4dce-b487-20e6f0508051",
   "metadata": {},
   "source": [
    "### Max Error and Mean Error Plots as functions of dt and dx"
   ]
  },
  {
   "cell_type": "code",
   "execution_count": null,
   "id": "edccf961-9179-43bc-a9cf-53e875e002a8",
   "metadata": {},
   "outputs": [],
   "source": []
  },
  {
   "cell_type": "markdown",
   "id": "1af5d1f8-d1e5-423b-be08-2cb52b408dd7",
   "metadata": {},
   "source": [
    "# Conclusions\n",
    "\n",
    "Write a paragraph or two describing what you learned going through the exercises.  How do these schemes behave as dx and dt change?  In what ways do the schemes behave differently?"
   ]
  },
  {
   "cell_type": "markdown",
   "id": "6cc41f87-90ae-4385-a74d-a27715ebea52",
   "metadata": {},
   "source": []
  }
 ],
 "metadata": {
  "kernelspec": {
   "display_name": "Python 3 (ipykernel)",
   "language": "python",
   "name": "python3"
  },
  "language_info": {
   "codemirror_mode": {
    "name": "ipython",
    "version": 3
   },
   "file_extension": ".py",
   "mimetype": "text/x-python",
   "name": "python",
   "nbconvert_exporter": "python",
   "pygments_lexer": "ipython3",
   "version": "3.10.2"
  }
 },
 "nbformat": 4,
 "nbformat_minor": 5
}
