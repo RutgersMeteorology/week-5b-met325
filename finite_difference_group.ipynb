{
 "cells": [
  {
   "cell_type": "markdown",
   "id": "4df430a6-3aae-4c93-b880-2605e7fbd5cc",
   "metadata": {},
   "source": [
    "# Group Exercise"
   ]
  },
  {
   "cell_type": "code",
   "execution_count": null,
   "id": "047b2695-fbfe-4cb8-85a1-447b8b553891",
   "metadata": {},
   "outputs": [],
   "source": [
    "import numpy as np\n",
    "import matplotlib.pyplot as plt"
   ]
  },
  {
   "cell_type": "markdown",
   "id": "20a7617b-e35b-47cf-9775-6893c9f2a6fe",
   "metadata": {},
   "source": [
    "For this group exercise, work with the second initial condition from Monday (involving the $\\cos$ function, $10\\pi$, etc.). Put your code here:"
   ]
  },
  {
   "cell_type": "code",
   "execution_count": null,
   "id": "9d4276dc-fce0-4d2f-b7ac-2fef7fc96c07",
   "metadata": {},
   "outputs": [],
   "source": [
    "# Your code (a function implementing the initial condition) here"
   ]
  },
  {
   "cell_type": "markdown",
   "id": "c82be5d2-05ef-45e6-baf7-2e0a4eac3e54",
   "metadata": {},
   "source": [
    "The equation we are solving is: $$\\frac{\\partial u}{\\partial t} + c \\frac{\\partial u}{\\partial x} = 0$$\n",
    "\n",
    "So far, we have explored the forward-in-time, upstream scheme applied to this equation, which results in:\n",
    "$$\\frac{u_j^{n+1}-u_j^n}{\\Delta t} + c \\frac{u_j^n-u_{j-1}^n}{\\Delta x} = 0$$\n",
    "\n",
    "Here, $j$ is the index for an arbitrary grid point in the $x$ direction, and $n$ is an arbitrary index in time.\n",
    "\n",
    "Because this is an explicit scheme, we can explicitly solve this equation for the value of $u$ at each grid point at the next timestep:\n",
    "$$u_j^{n+1} = u_j^n - \\left(\\frac{c\\Delta t}{\\Delta x}\\right)\\left(u_j^n-u_{j-1}^n\\right)$$\n",
    "\n",
    "For future reference, note that we can write the general form of the forward-in-time scheme as:\n",
    "$$\\frac{u^{n+1}-u^n}{\\Delta t}=f(u^n)$$\n",
    "\n",
    "Here, $f(u^n)$ represents how the term $-c\\frac{\\partial u}{\\partial x}$ is discretized. This form makes clear that the particulars of the time scheme are independent of the particulars of the spatial discretization scheme. (You can mix and match whichever time scheme you like with whatever spatial scheme you like.)\n",
    "\n",
    "#### Python function implementing forward-in-time, upstream scheme:"
   ]
  },
  {
   "cell_type": "code",
   "execution_count": null,
   "id": "8472f4da-8688-48db-82fc-fd27e8346a5f",
   "metadata": {},
   "outputs": [],
   "source": [
    "def advect_FTUS(u0, cfl, ntimes=100, npts=101):\n",
    "    u_new = np.zeros(npts)\n",
    "    u_t0 = u0.copy()\n",
    "    \n",
    "    for k in range(ntimes):\n",
    "        u_new[1:npts] = u_t0[1:npts] - cfl*(u_t0[1:npts] - u_t0[0:npts-1])\n",
    "        u_new[0] = u_new[-1]\n",
    "        u_t0=u_new.copy()\n",
    "    return u_new"
   ]
  },
  {
   "cell_type": "markdown",
   "id": "3b8d352b-54b4-45cb-bc9f-5921d80b594b",
   "metadata": {},
   "source": [
    "## Error analysis of the forward-in-time, upstream scheme"
   ]
  },
  {
   "cell_type": "markdown",
   "id": "183d7567-dfad-4890-8d72-a746febc164f",
   "metadata": {},
   "source": [
    "There are many ways we can quantify how accurate a numerical scheme is. In this exercise, we will use two methods: the maximum absolute error, and the mean absolute error. The code below implements these error measures."
   ]
  },
  {
   "cell_type": "code",
   "execution_count": null,
   "id": "5206bee8-773d-4297-862c-866352c26e0f",
   "metadata": {},
   "outputs": [],
   "source": [
    "def max_err(solution, exact_solution):\n",
    "    error = np.abs(solution - exact_solution)\n",
    "    return np.max(error)"
   ]
  },
  {
   "cell_type": "code",
   "execution_count": null,
   "id": "6882a1ee-7cb6-41c4-8501-10192fa09076",
   "metadata": {},
   "outputs": [],
   "source": [
    "def mean_err(solution, exact_solution):\n",
    "    error = np.abs(solution - exact_solution)\n",
    "    return np.mean(error)"
   ]
  },
  {
   "cell_type": "markdown",
   "id": "c711cff9-0d17-4339-a075-1aa7af0f9a9f",
   "metadata": {},
   "source": [
    "Here is a particular grid and timestep setup, which you should use repeatedly later in the assignment:"
   ]
  },
  {
   "cell_type": "code",
   "execution_count": null,
   "id": "719d5708-f4a6-42ad-968d-6779e76c4a0e",
   "metadata": {},
   "outputs": [],
   "source": [
    "c = 1\n",
    "x_left = 0.\n",
    "x_right = 1.\n",
    "num_points = 91\n",
    "dx = (x_right-x_left)/(num_points-1)\n",
    "dt = .01\n",
    "cfl = c*dt/dx\n",
    "print('c, dt, dx, CFL = ', c, dt, dx, cfl)\n",
    "ntimes = int((x_right-x_left)/(c*dt))\n",
    "print('ntimes = ', ntimes)"
   ]
  },
  {
   "cell_type": "markdown",
   "id": "15fb1228-bd1e-4b31-9888-af2b71af1367",
   "metadata": {},
   "source": [
    "And the solution after the wave travels all the way around to its starting position..."
   ]
  },
  {
   "cell_type": "code",
   "execution_count": null,
   "id": "fbd5e297-69a5-495a-b93b-c5c70b5ed936",
   "metadata": {},
   "outputs": [],
   "source": [
    "x, ui0 = init2_u(num_points, xl=x_left, xr=x_right, t0=0.)\n",
    "out = advect_FTUS(ui0, cfl, ntimes, npts=num_points)\n",
    "\n",
    "plt.plot(x, ui0, x, out)"
   ]
  },
  {
   "cell_type": "markdown",
   "id": "422f5f05-d63a-4b1e-8b4a-2323547488f3",
   "metadata": {},
   "source": [
    "The error in this case:"
   ]
  },
  {
   "cell_type": "code",
   "execution_count": null,
   "id": "6f2dba8a-90bb-4224-ab5e-5cb57a73aee6",
   "metadata": {},
   "outputs": [],
   "source": [
    "err1 = max_err(ui0, out)\n",
    "err2 = mean_err(ui0, out)\n",
    "print(f'Max: {err1}   Mean: {err2}')"
   ]
  },
  {
   "cell_type": "markdown",
   "id": "71a49e79-9d3e-4227-a1e6-b010a5bce643",
   "metadata": {},
   "source": [
    "However let's explore how the error varies as dx and dt vary. For all parts of this assignment, use the settings given below. The number of points in the grid will vary from 11 to 501 as defined in `points_list`, and the timestep will vary from .001 to .05 (inclusive) by .001.\n",
    "\n",
    "To start with, here is how the CFL number varies with dx and dt. The plotted values are capped at 1 to emphasize the variations when the CFL number indicates stability."
   ]
  },
  {
   "cell_type": "code",
   "execution_count": null,
   "id": "807c44dd-4458-4f55-853a-fe38a7a7743b",
   "metadata": {},
   "outputs": [],
   "source": [
    "points_list = list(range(11,51,2)) + list(range(51,101,4)) + list(range(101, 402, 10))\n",
    "dx_list = [(x_right-x_left)/(num_points-1) for num_points in points_list]\n",
    "dt_array = np.arange(.001, .05001, .001)\n",
    "cfl_array = np.zeros((len(dx_list), len(dt_array)))\n",
    "\n",
    "for i, dx in enumerate(dx_list):\n",
    "    for n, dt in enumerate(dt_array):\n",
    "        cfl = c*dt/dx\n",
    "        cfl_array[i,n] = min(cfl,1)\n",
    "\n",
    "plt.pcolormesh(dt_array, dx_list, cfl_array)\n",
    "plt.colorbar()\n",
    "plt.xlabel('dt')\n",
    "plt.ylabel('dx')\n",
    "plt.title('CFL Number (Capped at 1)')\n",
    "plt.show()"
   ]
  },
  {
   "cell_type": "markdown",
   "id": "240db2e6-0617-4c57-8344-e407d128bdfb",
   "metadata": {},
   "source": [
    "Your task is to create similar plots but showing how the maximum error varies with dx and dt, and how the mean absolute error varies with dx and dt. For plotting purposes, cap the max error at 1 and mean error at 0.25 to reveal the finer details when the scheme is stable. (Since the exact solution ranges between 0 and 1, any errors larger than that imply the numerical solution has \"blown up\".)"
   ]
  },
  {
   "cell_type": "code",
   "execution_count": null,
   "id": "a9306043-3972-46f9-9e41-055bbeca3cd3",
   "metadata": {},
   "outputs": [],
   "source": [
    "err1_array = np.zeros_like(cfl_array)\n",
    "err2_array = np.zeros_like(cfl_array)\n",
    "\n",
    "for i, dx in enumerate(dx_list):\n",
    "    num_points = points_list[i]\n",
    "    for n, dt in enumerate(dt_array):\n",
    "        cfl = c*dt/dx\n",
    "        # Code to compute the FTUS solution for this choice of dx, dt, num_points, etc.\n",
    "        # and then compute (and store) the two error statistics.\n",
    "       \n",
    "\n",
    "# Code to plot the maximum error as a function of dt and dx"
   ]
  },
  {
   "cell_type": "code",
   "execution_count": null,
   "id": "3d5b31d7-b53d-4c41-b5f5-dec892ce5e29",
   "metadata": {},
   "outputs": [],
   "source": [
    "# Code to plot the mean error as a function of dt and dx"
   ]
  },
  {
   "cell_type": "markdown",
   "id": "aae3aa12-dc10-4cb5-ac41-b84d84c5e8e1",
   "metadata": {},
   "source": [
    "Now analyze the following schemes in the same way:\n",
    "## Leapfrog for time, centered for space\n",
    "\n",
    "The Leapfrog time scheme is defined as $$\\frac{u^{n+1}-u^{n-1}}{2\\Delta t} = f(u^n)$$\n",
    "\n",
    "Note that this scheme requires two time levels ($n-1$ and $n$) to compute time level $n+1$, unlike the forward-in-time scheme. This means the initial condition must be specified at two times, $n=0$ (which corresponds to $t=0$) and $n=1$ (which corresponds to $t=\\Delta t$).\n",
    "\n",
    "The centered in space scheme is similar. At point $j$ and time level $n$, $$-c \\frac{\\partial u}{\\partial x} \\approx -c \\frac{u_{j+1}^n-u_{j-1}^n}{2 \\Delta x}$$\n",
    "\n",
    "### Python function implementing this scheme:"
   ]
  },
  {
   "cell_type": "code",
   "execution_count": null,
   "id": "793689d7-b56d-4c09-a0fb-a4773236abe8",
   "metadata": {},
   "outputs": [],
   "source": []
  },
  {
   "cell_type": "markdown",
   "id": "b5f8eb5a-ecbc-42c2-9612-de9ad4f4b930",
   "metadata": {
    "tags": []
   },
   "source": [
    "### Plot after one revolution with 91 x points, dt = 0.01"
   ]
  },
  {
   "cell_type": "code",
   "execution_count": null,
   "id": "82f58e55-02ef-4155-a527-4ae1ca0eec4c",
   "metadata": {
    "tags": []
   },
   "outputs": [],
   "source": []
  },
  {
   "cell_type": "markdown",
   "id": "e4867422-2cf5-4ce9-8849-4ace1a79b3fb",
   "metadata": {},
   "source": [
    "### Max Error and Mean Error Plots as functions of dt and dx"
   ]
  },
  {
   "cell_type": "code",
   "execution_count": null,
   "id": "bf90a3af-9a2b-43a6-a8d7-8f5204834c47",
   "metadata": {},
   "outputs": [],
   "source": []
  },
  {
   "cell_type": "markdown",
   "id": "62492251-85a8-4652-b4c0-9ffa48b46df3",
   "metadata": {},
   "source": [
    "## Adams-Bashforth for time, upstream for space\n",
    "\n",
    "The Adams-Bashforth scheme is second order in time, and defined as $$\\frac{u^{n+1}-u^{n}}{\\Delta t} = f(\\frac{3}{2}u^n-\\frac{1}{2}u^{n-1})$$\n",
    "\n",
    "As with the Leapfrog scheme, computing the solution at time level $n+1$ requires the results from the previous two time levels.\n",
    "\n",
    "### Python function implementing this scheme:"
   ]
  },
  {
   "cell_type": "code",
   "execution_count": null,
   "id": "b217f96c-3d0e-4f1f-ac1e-af5965d00e00",
   "metadata": {},
   "outputs": [],
   "source": []
  },
  {
   "cell_type": "markdown",
   "id": "144b1670-1416-48ea-afe0-e0651855fa62",
   "metadata": {
    "tags": []
   },
   "source": [
    "### Plot after one revolution with 91 x points, dt = 0.01"
   ]
  },
  {
   "cell_type": "code",
   "execution_count": null,
   "id": "099ddd77-d203-45d1-ac35-9b37af990cbf",
   "metadata": {
    "tags": []
   },
   "outputs": [],
   "source": []
  },
  {
   "cell_type": "markdown",
   "id": "c7ccbf2d-aa02-4703-bea0-edbeb5600b87",
   "metadata": {},
   "source": [
    "### Max Error and Mean Error Plots as functions of dt and dx"
   ]
  },
  {
   "cell_type": "code",
   "execution_count": null,
   "id": "a2eb8280-fab8-4f98-be16-dcb97309435d",
   "metadata": {},
   "outputs": [],
   "source": []
  },
  {
   "cell_type": "markdown",
   "id": "fc058687-39f8-4bd6-b50f-23720f8b6a23",
   "metadata": {},
   "source": [
    "## Matsuno for time, upstream for space\n",
    "\n",
    "The Matsuno scheme is a *predictor-corrector* scheme, meaning that you first form an intermediate solution (the predictor step, indicated by time level $*$), then improve that solution (the corrector step) to arrive at the actual solution for the next timestep. It is defined as:\n",
    "$$\\frac{u^{*}-u^n}{\\Delta t}=f(u^n)$$\n",
    "followed by\n",
    "$$\\frac{u^{n+1}-u^n}{\\Delta t}=f(u^{*})$$\n",
    "With this scheme, only a single initial condition is required, for $n = 0$ ($t = 0$).\n",
    "\n",
    "### Python function implementing this scheme:"
   ]
  },
  {
   "cell_type": "code",
   "execution_count": null,
   "id": "826efba2-d90f-4bfb-9c70-367213994de7",
   "metadata": {},
   "outputs": [],
   "source": []
  },
  {
   "cell_type": "markdown",
   "id": "76ff4d4d-ce52-45f3-bd85-8c2b2c896b8c",
   "metadata": {
    "tags": []
   },
   "source": [
    "### Plot after one revolution with 91 x points, dt = 0.01"
   ]
  },
  {
   "cell_type": "code",
   "execution_count": null,
   "id": "5bf36bc2-4adf-4002-a10f-5280cb0a9900",
   "metadata": {
    "tags": []
   },
   "outputs": [],
   "source": []
  },
  {
   "cell_type": "markdown",
   "id": "b25d21a8-38cb-46a4-bd61-b58401d01d02",
   "metadata": {},
   "source": [
    "### Max Error and Mean Error Plots as functions of dt and dx"
   ]
  },
  {
   "cell_type": "code",
   "execution_count": null,
   "id": "ec8e1263-97b4-4394-af64-dbfc2b7058ec",
   "metadata": {},
   "outputs": [],
   "source": []
  },
  {
   "cell_type": "markdown",
   "id": "28153077-bd2f-4a85-835b-843f3e63ea8d",
   "metadata": {},
   "source": [
    "## Forward-in-time, third-order upwind scheme\n",
    "\n",
    "The third-order upwind scheme is defined as:\n",
    "$$-c \\frac{\\partial u}{\\partial x} \\approx -c \\frac{3u_{j+1}^n+3u_{j}^n-7u_{j-1}^n+u_{j-2}^n}{8 \\Delta x}$$\n",
    "\n",
    "### Python function implementing this scheme:"
   ]
  },
  {
   "cell_type": "code",
   "execution_count": null,
   "id": "d1ad8bd6-2d22-4ca7-b353-1cfcd0f0fb14",
   "metadata": {},
   "outputs": [],
   "source": []
  },
  {
   "cell_type": "markdown",
   "id": "80b73c10-8361-449e-bce4-09900774065d",
   "metadata": {
    "tags": []
   },
   "source": [
    "### Plot after one revolution with 91 x points, dt = 0.01"
   ]
  },
  {
   "cell_type": "code",
   "execution_count": null,
   "id": "f7da2882-3484-4503-8cf2-8f4737ea61b0",
   "metadata": {
    "tags": []
   },
   "outputs": [],
   "source": []
  },
  {
   "cell_type": "markdown",
   "id": "d664edd7-15e8-4dce-b487-20e6f0508051",
   "metadata": {},
   "source": [
    "### Max Error and Mean Error Plots as functions of dt and dx"
   ]
  },
  {
   "cell_type": "code",
   "execution_count": null,
   "id": "edccf961-9179-43bc-a9cf-53e875e002a8",
   "metadata": {},
   "outputs": [],
   "source": []
  },
  {
   "cell_type": "markdown",
   "id": "1af5d1f8-d1e5-423b-be08-2cb52b408dd7",
   "metadata": {},
   "source": [
    "# Conclusions\n",
    "\n",
    "Write a paragraph or two describing what you learned going through the exercises.  How do these schemes behave as dx and dt change?  In what ways do the schemes behave differently?"
   ]
  },
  {
   "cell_type": "markdown",
   "id": "6cc41f87-90ae-4385-a74d-a27715ebea52",
   "metadata": {},
   "source": []
  }
 ],
 "metadata": {
  "kernelspec": {
   "display_name": "Python 3 (ipykernel)",
   "language": "python",
   "name": "python3"
  },
  "language_info": {
   "codemirror_mode": {
    "name": "ipython",
    "version": 3
   },
   "file_extension": ".py",
   "mimetype": "text/x-python",
   "name": "python",
   "nbconvert_exporter": "python",
   "pygments_lexer": "ipython3",
   "version": "3.10.2"
  }
 },
 "nbformat": 4,
 "nbformat_minor": 5
}
